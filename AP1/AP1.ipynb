{
 "cells": [
  {
   "cell_type": "markdown",
   "metadata": {},
   "source": [
    "# AP1 - Portos\n",
    "## Hidráulica Marítimica\n",
    "\n",
    "Aluno: Francisco José Matos Nogueira Filho\n",
    "\n",
    "Matricula: 384962"
   ]
  },
  {
   "cell_type": "code",
   "execution_count": 1,
   "metadata": {},
   "outputs": [],
   "source": [
    "import numpy as np\n",
    "from numpy import pi\n",
    "from IPython.display import Markdown as md"
   ]
  },
  {
   "cell_type": "markdown",
   "metadata": {},
   "source": [
    "## Questão 1\n",
    "## Dados da onda em Alto Mar"
   ]
  },
  {
   "cell_type": "code",
   "execution_count": 2,
   "metadata": {},
   "outputs": [],
   "source": [
    "## Dados da onda em Alto Mar\n",
    "\n",
    "H0 = 2 #m\n",
    "T = 142 #s\n",
    "g = 9.81 #m/s^2"
   ]
  },
  {
   "cell_type": "markdown",
   "metadata": {},
   "source": [
    "### Item A"
   ]
  },
  {
   "cell_type": "markdown",
   "metadata": {},
   "source": [
    "### Determinação do comprimento de onda $L_0$, celeridade e $\\sigma$ em águas profundas\n",
    "# $$L_0 = \\frac{g T^2}{2 \\pi}$$\n",
    "# $$ C = \\frac{L}{T}$$\n",
    "# $$ \\sigma = \\frac{2 \\pi}{T} $$"
   ]
  },
  {
   "cell_type": "code",
   "execution_count": 3,
   "metadata": {},
   "outputs": [
    {
     "data": {
      "text/markdown": [
       "\n",
       "$L_0 = 31482.25$ m \n",
       "\n",
       "$C_0 = 221.71$ m/s \n",
       "\n",
       "$\\sigma = 0.0442$ ciclos/seg\n"
      ],
      "text/plain": [
       "<IPython.core.display.Markdown object>"
      ]
     },
     "execution_count": 3,
     "metadata": {},
     "output_type": "execute_result"
    }
   ],
   "source": [
    "def comprimentoDeOnda(Periodo):\n",
    "    return (g * Periodo**2)/(2 * pi)\n",
    "\n",
    "def Celeridade(Comprimento,T):\n",
    "    return Comprimento/T\n",
    "\n",
    "L0 = comprimentoDeOnda(T)\n",
    "C0 = Celeridade(L0,T)\n",
    "sigma = 2*pi/T\n",
    "\n",
    "\n",
    "#Resposta\n",
    "md(\"\"\"\n",
    "$L_0 = %.2f$ m \\n\n",
    "$C_0 = %.2f$ m/s \\n\n",
    "$\\sigma = %.4f$ ciclos/seg\n",
    "\"\"\"%(L0,C0,sigma))\n",
    "\n",
    "\n"
   ]
  },
  {
   "cell_type": "markdown",
   "metadata": {},
   "source": [
    "Usarei uma função `broyden1` do pacote de calculo númerico [scipy](https://docs.scipy.org/doc/scipy/reference/generated/scipy.optimize.broyden1.html) para minimizar a expressão:\n",
    "\n",
    "# $ \\frac{L}{L0} = tanh \\left( \\frac{2 \\pi d}{L} \\right) $ "
   ]
  },
  {
   "cell_type": "code",
   "execution_count": 4,
   "metadata": {},
   "outputs": [
    {
     "data": {
      "text/markdown": [
       "\n",
       "$L = 1405.98 \\; m $ \n",
       "\n",
       "$K = 0.00447 \\; $\n"
      ],
      "text/plain": [
       "<IPython.core.display.Markdown object>"
      ]
     },
     "execution_count": 4,
     "metadata": {},
     "output_type": "execute_result"
    }
   ],
   "source": [
    "from scipy.optimize import broyden1\n",
    "#from scipy.optimize import minimize, newton_krylov, broyden1, curve_fit\n",
    "d1 = 10 #m\n",
    "def fu(l):\n",
    "    return (l/L0 - np.tanh((2*pi*d1)/l))**2\n",
    "x0 = 125 #Palpite inicial\n",
    "solv = broyden1(fu,x0,iter=50)\n",
    "L10 = solv\n",
    "\n",
    "def calcularK(L):\n",
    "    return (2 * pi)/L\n",
    "\n",
    "k10 = calcularK(L10)\n",
    "md(\"\"\"\n",
    "$L = %.2f \\; m $ \\n\n",
    "$K = %.5f \\; $\n",
    "\"\"\" % (L10,k10))"
   ]
  },
  {
   "cell_type": "markdown",
   "metadata": {},
   "source": [
    "# $ n = 0.5 \\left(1 + \\frac{2 K d}{senh(2 K d)}\\right) $"
   ]
  },
  {
   "cell_type": "code",
   "execution_count": 5,
   "metadata": {},
   "outputs": [
    {
     "data": {
      "text/markdown": [
       "\n",
       "$n = 0.999$\n"
      ],
      "text/plain": [
       "<IPython.core.display.Markdown object>"
      ]
     },
     "execution_count": 5,
     "metadata": {},
     "output_type": "execute_result"
    }
   ],
   "source": [
    "def calcularN(K,d):\n",
    "    return 0.5 * (1 + (2*K*d)/np.sinh(2*K*d))\n",
    "\n",
    "n10 = calcularN(k10,d1)\n",
    "md(\"\"\"\n",
    "$n = %.3f$\n",
    "\"\"\" % n10)"
   ]
  },
  {
   "cell_type": "markdown",
   "metadata": {},
   "source": [
    "# $ h = H_0 \\sqrt{\\frac{b_0}{b}}\\sqrt{\\frac{1}{2} \\frac{1}{n} \\frac{C_0}{C}} $\n",
    "Pode-se considerar $ \\frac{b_0}{b} = 0$ uma vez que se estamos calculando para um cenário em Mar Aberto"
   ]
  },
  {
   "cell_type": "code",
   "execution_count": 6,
   "metadata": {},
   "outputs": [
    {
     "data": {
      "text/markdown": [
       "\n",
       "$H = 6.694 \\; m $ \n",
       "\n",
       "$u = 3.316 \\; m/s$\n"
      ],
      "text/plain": [
       "<IPython.core.display.Markdown object>"
      ]
     },
     "execution_count": 6,
     "metadata": {},
     "output_type": "execute_result"
    }
   ],
   "source": [
    "def calcularH(H0,n,C0,C):\n",
    "    return H0 * (1 * 0.5* 1/n * C0/C)**0.5\n",
    "def VelocidadeOrbitalMax(a,K,sigma):\n",
    "    return (a * g * K)/sigma\n",
    "C10 = Celeridade(L10,T)\n",
    "H10 = calcularH(H0,n10,C0,C10)\n",
    "a10 = H10/2\n",
    "u10 = VelocidadeOrbitalMax(a10,k10,sigma)\n",
    "md(\"\"\"\n",
    "$H = %.3f \\; m $ \\n\n",
    "$u = %.3f \\; m/s$\n",
    "\"\"\" % (H10, u10))"
   ]
  },
  {
   "cell_type": "markdown",
   "metadata": {},
   "source": [
    "### Item B"
   ]
  },
  {
   "cell_type": "markdown",
   "metadata": {},
   "source": [
    "Usarei uma função `broyden1` do pacote de calculo númerico [scipy](https://docs.scipy.org/doc/scipy/reference/generated/scipy.optimize.broyden1.html) para minimizar a expressão:\n",
    "\n",
    "# $ \\frac{L}{L0} = tanh \\left( \\frac{2 \\pi d}{L} \\right) $ "
   ]
  },
  {
   "cell_type": "code",
   "execution_count": 7,
   "metadata": {},
   "outputs": [
    {
     "data": {
      "text/markdown": [
       "\n",
       "$L = 994.34 \\; m $ \n",
       "\n",
       "$K = 0.00632 \\; $\n"
      ],
      "text/plain": [
       "<IPython.core.display.Markdown object>"
      ]
     },
     "execution_count": 7,
     "metadata": {},
     "output_type": "execute_result"
    }
   ],
   "source": [
    "from scipy.optimize import minimize\n",
    "from scipy.optimize import minimize, newton_krylov, broyden1, curve_fit\n",
    "d2 = 5 #m\n",
    "def fu2(l):\n",
    "    return (l/L0 - np.tanh((2*pi*d2)/l))**2\n",
    "x0 = 125 #Palpite inicial\n",
    "solv = broyden1(fu2,x0,iter=50)\n",
    "L5 = solv\n",
    "\n",
    "k5 = calcularK(L5)\n",
    "md(\"\"\"\n",
    "$L = %.2f \\; m $ \\n\n",
    "$K = %.5f \\; $\n",
    "\"\"\" % (L5,k5))"
   ]
  },
  {
   "cell_type": "markdown",
   "metadata": {},
   "source": [
    "# $ n = 0.5 \\left(1 + \\frac{2 K d}{senh(2 K d)}\\right) $"
   ]
  },
  {
   "cell_type": "code",
   "execution_count": 8,
   "metadata": {},
   "outputs": [
    {
     "data": {
      "text/markdown": [
       "\n",
       "$n = 0.9996674$\n"
      ],
      "text/plain": [
       "<IPython.core.display.Markdown object>"
      ]
     },
     "execution_count": 8,
     "metadata": {},
     "output_type": "execute_result"
    }
   ],
   "source": [
    "def calcularN(K,d):\n",
    "    return 0.5 * (1 + (2*K*d)/np.sinh(2*K*d))\n",
    "\n",
    "n5 = calcularN(k5,d2)\n",
    "md(\"\"\"\n",
    "$n = %.7f$\n",
    "\"\"\" % n5)"
   ]
  },
  {
   "cell_type": "markdown",
   "metadata": {},
   "source": [
    "# $ h = H_0 \\sqrt{\\frac{b_0}{b}}\\sqrt{\\frac{1}{2} \\frac{1}{n} \\frac{C_0}{C}} $\n",
    "Pode-se considerar $ \\frac{b_0}{b} = 0$ uma vez que se estamos calculando para um cenário em Mar Aberto"
   ]
  },
  {
   "cell_type": "code",
   "execution_count": 9,
   "metadata": {},
   "outputs": [
    {
     "data": {
      "text/markdown": [
       "\n",
       "$H = 7.959 \\; m $ \n",
       "\n",
       "$u = 5.575 \\; m/s$\n"
      ],
      "text/plain": [
       "<IPython.core.display.Markdown object>"
      ]
     },
     "execution_count": 9,
     "metadata": {},
     "output_type": "execute_result"
    }
   ],
   "source": [
    "C5 = Celeridade(L5,T)\n",
    "H5 = calcularH(H0,n5,C0,C5)\n",
    "a5 = H5/2\n",
    "u5 = VelocidadeOrbitalMax(a5,k5,sigma)\n",
    "md(\"\"\"\n",
    "$H = %.3f \\; m $ \\n\n",
    "$u = %.3f \\; m/s$\n",
    "\"\"\" % (H5, u5))"
   ]
  },
  {
   "cell_type": "markdown",
   "metadata": {},
   "source": [
    "### Item C\n",
    "# $ sen(\\alpha_2) = \\frac{C_2}{C_1} sen(\\alpha_1) $"
   ]
  },
  {
   "cell_type": "code",
   "execution_count": 10,
   "metadata": {},
   "outputs": [
    {
     "data": {
      "text/markdown": [
       "\n",
       "$ sen(𝛼_2) = 0.406 $ \n",
       "\n",
       "$ 𝛼_2 = 23.93 ° $\n",
       "\n"
      ],
      "text/plain": [
       "<IPython.core.display.Markdown object>"
      ]
     },
     "execution_count": 10,
     "metadata": {},
     "output_type": "execute_result"
    }
   ],
   "source": [
    "def AnguloDeRefracao(C1, C2, alfa):\n",
    "    return C2/C1* np.sin(2* pi* alfa/360)\n",
    "alfa1 = 35\n",
    "senAlfa2 = AnguloDeRefracao(C10,C5,alfa1)\n",
    "alfa2 = 360*np.arcsin(senAlfa2)/(2 * pi)\n",
    "md(\"\"\"\n",
    "$ sen(𝛼_2) = %.3f $ \\n\n",
    "$ 𝛼_2 = %.2f ° $\n",
    "\n",
    "\"\"\" % (senAlfa2,alfa2))"
   ]
  },
  {
   "cell_type": "markdown",
   "metadata": {},
   "source": [
    "### Item D\n",
    "# $ \\xi_M = \\frac{\\pi^2 H^2}{2 g T^2} \\left[ 1 + \\frac{1.5}{senh\\left( \\frac{2 \\pi d}{L} \\right)} \\right]$"
   ]
  },
  {
   "cell_type": "code",
   "execution_count": 11,
   "metadata": {},
   "outputs": [
    {
     "data": {
      "text/markdown": [
       "\n",
       "$𝜉 = 0.07659  \\; m$\n",
       "\n"
      ],
      "text/plain": [
       "<IPython.core.display.Markdown object>"
      ]
     },
     "execution_count": 11,
     "metadata": {},
     "output_type": "execute_result"
    }
   ],
   "source": [
    "def sobrelevacaoNvlMedio(H, T, d, L):\n",
    "    return (pi*H)**2/(2*g*T**2) * (1 + 1.5/np.sinh(2* pi * d/L))\n",
    "\n",
    "xi5 = sobrelevacaoNvlMedio(H5, T, d2, L5)\n",
    "\n",
    "md(\"\"\"\n",
    "$𝜉 = %.5f  \\; m$\n",
    "\n",
    "\"\"\" % xi5)"
   ]
  },
  {
   "cell_type": "markdown",
   "metadata": {},
   "source": [
    "### Item E"
   ]
  },
  {
   "cell_type": "code",
   "execution_count": 12,
   "metadata": {},
   "outputs": [
    {
     "name": "stdout",
     "output_type": "stream",
     "text": [
      "A Onda atingirá a Igreja\n"
     ]
    }
   ],
   "source": [
    "cotaIgreja = 3.5 #m\n",
    "\n",
    "Honda = H5/2 + xi5\n",
    "\n",
    "\n",
    "if Honda > cotaIgreja:\n",
    "    print(\"A Onda atingirá a Igreja\")\n",
    "else:\n",
    "    print(\"A Igreja não será atingida pela Onda\")\n"
   ]
  },
  {
   "cell_type": "markdown",
   "metadata": {},
   "source": [
    "## Questão 1\n",
    "## Dados da onda em Alto Mar"
   ]
  },
  {
   "cell_type": "code",
   "execution_count": 13,
   "metadata": {},
   "outputs": [],
   "source": [
    "## Dados da onda em Alto Mar\n",
    "\n",
    "H0 = 6 #m\n",
    "T = 8 #s\n",
    "g = 9.81 #m/s^2"
   ]
  },
  {
   "cell_type": "markdown",
   "metadata": {},
   "source": [
    "### Item A"
   ]
  },
  {
   "cell_type": "code",
   "execution_count": 14,
   "metadata": {},
   "outputs": [
    {
     "data": {
      "text/markdown": [
       "\n",
       "$L_0 = 99.92$ m \n",
       "\n",
       "$C_0 = 12.49$ m/s \n",
       "\n",
       "$\\sigma = 0.7854$ ciclos/seg\n"
      ],
      "text/plain": [
       "<IPython.core.display.Markdown object>"
      ]
     },
     "execution_count": 14,
     "metadata": {},
     "output_type": "execute_result"
    }
   ],
   "source": [
    "\n",
    "L0 = comprimentoDeOnda(T)\n",
    "C0 = Celeridade(L0,T)\n",
    "sigma = 2*pi/T\n",
    "\n",
    "\n",
    "#Resposta\n",
    "md(\"\"\"\n",
    "$L_0 = %.2f$ m \\n\n",
    "$C_0 = %.2f$ m/s \\n\n",
    "$\\sigma = %.4f$ ciclos/seg\n",
    "\"\"\"%(L0,C0,sigma))\n",
    "\n",
    "\n"
   ]
  },
  {
   "cell_type": "markdown",
   "metadata": {},
   "source": [
    "Usarei uma função `broyden1` do pacote de calculo númerico [scipy](https://docs.scipy.org/doc/scipy/reference/generated/scipy.optimize.broyden1.html) para minimizar a expressão:\n",
    "\n",
    "# $ \\frac{L}{L0} = tanh \\left( \\frac{2 \\pi d}{L} \\right) $ "
   ]
  },
  {
   "cell_type": "code",
   "execution_count": 15,
   "metadata": {},
   "outputs": [
    {
     "data": {
      "text/markdown": [
       "\n",
       "$L = 61.41 \\; m $ \n",
       "\n",
       "$K = 0.10232 \\; $\n"
      ],
      "text/plain": [
       "<IPython.core.display.Markdown object>"
      ]
     },
     "execution_count": 15,
     "metadata": {},
     "output_type": "execute_result"
    }
   ],
   "source": [
    "from scipy.optimize import broyden1\n",
    "#from scipy.optimize import minimize, newton_krylov, broyden1, curve_fit\n",
    "d1 = 7 #m\n",
    "def fu(l):\n",
    "    return (l/L0 - np.tanh((2*pi*d1)/l))**2\n",
    "x0 = 50 #Palpite inicial\n",
    "solv = broyden1(fu,x0,iter=50)\n",
    "L7 = solv\n",
    "\n",
    "def calcularK(L):\n",
    "    return (2 * pi)/L\n",
    "\n",
    "k7 = calcularK(L7)\n",
    "md(\"\"\"\n",
    "$L = %.2f \\; m $ \\n\n",
    "$K = %.5f \\; $\n",
    "\"\"\" % (L7,k7))"
   ]
  },
  {
   "cell_type": "markdown",
   "metadata": {},
   "source": [
    "# $ n = 0.5 \\left(1 + \\frac{2 K d}{senh(2 K d)}\\right) $"
   ]
  },
  {
   "cell_type": "code",
   "execution_count": 16,
   "metadata": {},
   "outputs": [
    {
     "data": {
      "text/markdown": [
       "\n",
       "$n = 0.863$\n"
      ],
      "text/plain": [
       "<IPython.core.display.Markdown object>"
      ]
     },
     "execution_count": 16,
     "metadata": {},
     "output_type": "execute_result"
    }
   ],
   "source": [
    "def calcularN(K,d):\n",
    "    return 0.5 * (1 + (2*K*d)/np.sinh(2*K*d))\n",
    "\n",
    "n7 = calcularN(k7,d1)\n",
    "md(\"\"\"\n",
    "$n = %.3f$\n",
    "\"\"\" % n7)"
   ]
  },
  {
   "cell_type": "markdown",
   "metadata": {},
   "source": [
    "# $ h = H_0 \\sqrt{\\frac{b_0}{b}}\\sqrt{\\frac{1}{2} \\frac{1}{n} \\frac{C_0}{C}} $\n",
    "Pode-se considerar $ \\frac{b_0}{b} = 0$ uma vez que se estamos calculando para um cenário em Mar Aberto"
   ]
  },
  {
   "cell_type": "code",
   "execution_count": 17,
   "metadata": {},
   "outputs": [
    {
     "data": {
      "text/markdown": [
       "\n",
       "$H = 5.827 \\; m $ \n",
       "\n",
       "$u = 3.723 \\; m/s$\n"
      ],
      "text/plain": [
       "<IPython.core.display.Markdown object>"
      ]
     },
     "execution_count": 17,
     "metadata": {},
     "output_type": "execute_result"
    }
   ],
   "source": [
    "def calcularH(H0,n,C0,C):\n",
    "    return H0 * (1 * 0.5* 1/n * C0/C)**0.5\n",
    "def VelocidadeOrbitalMax(a,K,sigma):\n",
    "    return (a * g * K)/sigma\n",
    "C7 = Celeridade(L7,T)\n",
    "H7 = calcularH(H0,n7,C0,C7)\n",
    "a7 = H7/2\n",
    "u7 = VelocidadeOrbitalMax(a7,k7,sigma)\n",
    "md(\"\"\"\n",
    "$H = %.3f \\; m $ \\n\n",
    "$u = %.3f \\; m/s$\n",
    "\"\"\" % (H7, u7))"
   ]
  },
  {
   "cell_type": "markdown",
   "metadata": {},
   "source": [
    "### Item B\n",
    "# $ \\Delta p = \\frac{H}{cosh \\left( \\frac{2 \\pi d}{L} \\right)}  $\n",
    "# $ \\Delta h = \\frac{\\pi H^2}{L} coth \\left( \\frac{2 \\pi d}{L} \\right) $"
   ]
  },
  {
   "cell_type": "code",
   "execution_count": 18,
   "metadata": {},
   "outputs": [
    {
     "data": {
      "text/markdown": [
       "\n",
       "$\\Delta p = 4.60 \\; m$ \n",
       "\n",
       "$\\Delta h = 2.83 \\; m$\n"
      ],
      "text/plain": [
       "<IPython.core.display.Markdown object>"
      ]
     },
     "execution_count": 18,
     "metadata": {},
     "output_type": "execute_result"
    }
   ],
   "source": [
    "def DeltaH(H, L, d):\n",
    "    return (pi * H**2)/L * (np.tanh((2 * pi * d)/L))**-1\n",
    "def DeltaP(H,L,d):\n",
    "    return H/(np.cosh((2 * pi * d)/L))\n",
    "dP = DeltaP(H7, L7, d1)\n",
    "dH = DeltaH(H7, L7, d1)\n",
    "md(\"\"\"\n",
    "$\\Delta p = %.2f \\; m$ \\n\n",
    "$\\Delta h = %.2f \\; m$\n",
    "\"\"\" % (dP,dH))"
   ]
  },
  {
   "cell_type": "code",
   "execution_count": 19,
   "metadata": {},
   "outputs": [
    {
     "data": {
      "text/markdown": [
       "\n",
       "$H_{clapotis} = 11.65 \\; m$\n"
      ],
      "text/plain": [
       "<IPython.core.display.Markdown object>"
      ]
     },
     "execution_count": 19,
     "metadata": {},
     "output_type": "execute_result"
    }
   ],
   "source": [
    "md(\"\"\"\n",
    "$H_{clapotis} = %.2f \\; m$\n",
    "\"\"\" % (H7 * 2))"
   ]
  },
  {
   "cell_type": "code",
   "execution_count": 20,
   "metadata": {},
   "outputs": [
    {
     "data": {
      "text/markdown": [
       "\n",
       "$Cota = 8.65 \\; m$\n"
      ],
      "text/plain": [
       "<IPython.core.display.Markdown object>"
      ]
     },
     "execution_count": 20,
     "metadata": {},
     "output_type": "execute_result"
    }
   ],
   "source": [
    "md(\"\"\"\n",
    "$Cota = %.2f \\; m$\n",
    "\"\"\" % (H7 + dH))"
   ]
  },
  {
   "cell_type": "markdown",
   "metadata": {},
   "source": [
    "### Item C\n",
    "# $$ E = \\overline{E} L = \\frac{\\rho g H^2 L}{8} $$"
   ]
  },
  {
   "cell_type": "code",
   "execution_count": 21,
   "metadata": {},
   "outputs": [
    {
     "data": {
      "text/markdown": [
       "$E = 10574940.14 \\; Joules$ \n",
       "\n",
       "    ou \n",
       " $E = 1077.98 \\; tf·m $  "
      ],
      "text/plain": [
       "<IPython.core.display.Markdown object>"
      ]
     },
     "execution_count": 21,
     "metadata": {},
     "output_type": "execute_result"
    }
   ],
   "source": [
    "rho = 1034\n",
    "H = 2 * H7\n",
    "def EnergiaDeOnda(H, L):\n",
    "    return (rho * g * H**2 * L)/8\n",
    "\n",
    "E = EnergiaDeOnda(H, L7)\n",
    "# Para comprimento de crista = 1m\n",
    "md(\"\"\"$E = %.2f \\; Joules$ \\n\n",
    "    ou \\n $E = %.2f \\; tf·m $  \"\"\"%(E, E/(9.81*1000)))\n"
   ]
  },
  {
   "cell_type": "markdown",
   "metadata": {},
   "source": [
    "### Item D"
   ]
  },
  {
   "cell_type": "code",
   "execution_count": 22,
   "metadata": {},
   "outputs": [
    {
     "data": {
      "text/markdown": [
       "\n",
       "$x = 6.55 \\; m $\n"
      ],
      "text/plain": [
       "<IPython.core.display.Markdown object>"
      ]
     },
     "execution_count": 22,
     "metadata": {},
     "output_type": "execute_result"
    }
   ],
   "source": [
    "def MomentoDeTombamento():\n",
    "    return\n",
    "\n",
    "cota = H7 + dH\n",
    "A1 = 0.5 * cota**2\n",
    "A2 = d1*(cota - dP)/2\n",
    "A3 = dP * d1\n",
    "At = sum([A1,A2,A3])\n",
    "\n",
    "x1 = d1 + cota/3\n",
    "x2 = 2/3 *d1\n",
    "x3 = d1/2\n",
    "\n",
    "x = (np.array([A1,A2,A3]) @ np.array([x1,x2,x3]))/At\n",
    "md(\"\"\"\n",
    "$x = %.2f \\; m $\n",
    "\"\"\" % x)"
   ]
  },
  {
   "cell_type": "code",
   "execution_count": 23,
   "metadata": {},
   "outputs": [
    {
     "data": {
      "text/markdown": [
       "\n",
       "$M_t = 567.62 \\; tf·m/m_{linear}$\n"
      ],
      "text/plain": [
       "<IPython.core.display.Markdown object>"
      ]
     },
     "execution_count": 23,
     "metadata": {},
     "output_type": "execute_result"
    }
   ],
   "source": [
    "R = At * rho/1000\n",
    "Mt = R * x\n",
    "md(\"\"\"\n",
    "$M_t = %.2f \\; tf·m/m_{linear}$\n",
    "\"\"\" % Mt)"
   ]
  },
  {
   "cell_type": "code",
   "execution_count": 24,
   "metadata": {},
   "outputs": [
    {
     "data": {
      "text/plain": [
       "86.66562384202894"
      ]
     },
     "execution_count": 24,
     "metadata": {},
     "output_type": "execute_result"
    }
   ],
   "source": [
    "R"
   ]
  }
 ],
 "metadata": {
  "kernelspec": {
   "display_name": "Python 3",
   "language": "python",
   "name": "python3"
  },
  "language_info": {
   "codemirror_mode": {
    "name": "ipython",
    "version": 3
   },
   "file_extension": ".py",
   "mimetype": "text/x-python",
   "name": "python",
   "nbconvert_exporter": "python",
   "pygments_lexer": "ipython3",
   "version": "3.6.10"
  },
  "varInspector": {
   "cols": {
    "lenName": 16,
    "lenType": 16,
    "lenVar": 40
   },
   "kernels_config": {
    "python": {
     "delete_cmd_postfix": "",
     "delete_cmd_prefix": "del ",
     "library": "var_list.py",
     "varRefreshCmd": "print(var_dic_list())"
    },
    "r": {
     "delete_cmd_postfix": ") ",
     "delete_cmd_prefix": "rm(",
     "library": "var_list.r",
     "varRefreshCmd": "cat(var_dic_list()) "
    }
   },
   "types_to_exclude": [
    "module",
    "function",
    "builtin_function_or_method",
    "instance",
    "_Feature"
   ],
   "window_display": false
  }
 },
 "nbformat": 4,
 "nbformat_minor": 4
}
