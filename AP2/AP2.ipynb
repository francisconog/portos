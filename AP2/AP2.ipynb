{
 "cells": [
  {
   "cell_type": "markdown",
   "metadata": {},
   "source": [
    "# AP1 - Portos\n",
    "## Hidráulica Marítimica\n",
    "\n",
    "Aluno: Francisco José Matos Nogueira Filho\n",
    "\n",
    "Matricula: 384962"
   ]
  },
  {
   "cell_type": "code",
   "execution_count": 1,
   "metadata": {},
   "outputs": [],
   "source": [
    "import numpy as np\n",
    "from numpy import pi\n",
    "from IPython.display import Markdown as md"
   ]
  },
  {
   "cell_type": "markdown",
   "metadata": {},
   "source": [
    "## Questão 1\n",
    "## Dados da onda em Alto Mar"
   ]
  },
  {
   "cell_type": "code",
   "execution_count": 2,
   "metadata": {},
   "outputs": [],
   "source": [
    "## Dados da onda em Alto Mar\n",
    "\n",
    "H0 = 13 #m\n",
    "T = 15 #s\n",
    "g = 9.81 #m/s^2"
   ]
  },
  {
   "cell_type": "markdown",
   "metadata": {},
   "source": [
    "## Dados da Bacia"
   ]
  },
  {
   "cell_type": "code",
   "execution_count": 3,
   "metadata": {},
   "outputs": [],
   "source": [
    "L = 150 #m\n",
    "cim = 250 #m\n",
    "cib = 450 #m\n",
    "pu = 16 #m"
   ]
  },
  {
   "cell_type": "markdown",
   "metadata": {},
   "source": [
    "### Item A"
   ]
  },
  {
   "cell_type": "markdown",
   "metadata": {},
   "source": [
    "### Determinação do comprimento de onda $L_0$, celeridade e $\\sigma$ em águas profundas\n",
    "# $$L_0 = \\frac{g T^2}{2 \\pi}$$\n",
    "# $$ C = \\frac{L}{T}$$\n",
    "# $$ \\sigma = \\frac{2 \\pi}{T} $$"
   ]
  },
  {
   "cell_type": "code",
   "execution_count": 4,
   "metadata": {},
   "outputs": [],
   "source": [
    "def comprimentoDeOnda(Periodo):\n",
    "    return (g * Periodo**2)/(2 * pi)\n",
    "\n",
    "def Celeridade(Comprimento,T):\n",
    "    return Comprimento/T\n",
    "\n",
    "L0 = comprimentoDeOnda(T)\n",
    "C0 = Celeridade(L0,T)\n",
    "sigma = 2*pi/T\n",
    "\n",
    "\n",
    "#Resposta\n",
    "md(\"\"\"\n",
    "$L_0 = %.2f$ m \\n\n",
    "$C_0 = %.2f$ m/s \\n\n",
    "$\\sigma = %.4f$ ciclos/seg\n",
    "\"\"\"%(L0,C0,sigma))\n",
    "\n",
    "\n",
    "k = 0.78"
   ]
  },
  {
   "cell_type": "markdown",
   "metadata": {},
   "source": [
    "Usarei uma função `broyden1` do pacote de calculo númerico [scipy](https://docs.scipy.org/doc/scipy/reference/generated/scipy.optimize.broyden1.html) para minimizar a expressão:\n",
    "\n",
    "# $ \\frac{L}{L0} = tanh \\left( \\frac{2 \\pi d}{L} \\right) $ "
   ]
  },
  {
   "cell_type": "code",
   "execution_count": 5,
   "metadata": {},
   "outputs": [
    {
     "data": {
      "text/markdown": [
       "\n",
       "$L = 178.93 \\; m $ \n",
       "\n",
       "$K = 0.03512 \\; $\n"
      ],
      "text/plain": [
       "<IPython.core.display.Markdown object>"
      ]
     },
     "execution_count": 5,
     "metadata": {},
     "output_type": "execute_result"
    }
   ],
   "source": [
    "from scipy.optimize import broyden1\n",
    "#from scipy.optimize import minimize, newton_krylov, broyden1, curve_fit\n",
    "d1 = pu #m\n",
    "def fu(l):\n",
    "    return (l/L0 - np.tanh((2*pi*d1)/l))**2\n",
    "x0 = 125 #Palpite inicial\n",
    "solv = broyden1(fu,x0,iter=50)\n",
    "L16 = solv\n",
    "\n",
    "def calcularK(L):\n",
    "    return (2 * pi)/L\n",
    "\n",
    "k16 = calcularK(L16)\n",
    "md(\"\"\"\n",
    "$L = %.2f \\; m $ \\n\n",
    "$K = %.5f \\; $\n",
    "\"\"\" % (L16,k16))"
   ]
  },
  {
   "cell_type": "markdown",
   "metadata": {},
   "source": [
    "# $ n = 0.5 \\left(1 + \\frac{2 K d}{senh(2 K d)}\\right) $"
   ]
  },
  {
   "cell_type": "code",
   "execution_count": 6,
   "metadata": {},
   "outputs": [
    {
     "data": {
      "text/markdown": [
       "\n",
       "$n = 0.908$\n"
      ],
      "text/plain": [
       "<IPython.core.display.Markdown object>"
      ]
     },
     "execution_count": 6,
     "metadata": {},
     "output_type": "execute_result"
    }
   ],
   "source": [
    "def calcularN(K,d):\n",
    "    return 0.5 * (1 + (2*K*d)/np.sinh(2*K*d))\n",
    "\n",
    "n16 = calcularN(k16,d1)\n",
    "md(\"\"\"\n",
    "$n = %.3f$\n",
    "\"\"\" % n16)"
   ]
  },
  {
   "cell_type": "markdown",
   "metadata": {},
   "source": [
    "# $ h = H_0 \\sqrt{\\frac{b_0}{b}}\\sqrt{\\frac{1}{2} \\frac{1}{n} \\frac{C_0}{C}} $\n",
    "Neste caso, deve-se considerar $ \\frac{b_0}{b} \\neq 1$ uma vez que se estamos calculando para um cenário em Mar Fechado"
   ]
  },
  {
   "cell_type": "code",
   "execution_count": 7,
   "metadata": {},
   "outputs": [
    {
     "data": {
      "text/markdown": [
       "\n",
       "$H = 20.681 \\; m $ \n",
       "\n",
       "$u = 8.504 \\; m/s$\n"
      ],
      "text/plain": [
       "<IPython.core.display.Markdown object>"
      ]
     },
     "execution_count": 7,
     "metadata": {},
     "output_type": "execute_result"
    }
   ],
   "source": [
    "def calcularH(H0,n,C0,C,b0_b=1):\n",
    "    return H0 * b0_b**0.5*(1 * 0.5* 1/n * C0/C)**0.5\n",
    "def VelocidadeOrbitalMax(a,K,sigma):\n",
    "    return (a * g * K)/sigma\n",
    "C16 = Celeridade(L16,T)\n",
    "b0_b = L0/L\n",
    "Hbacia = calcularH(H0,n16,C0,C16, b0_b)\n",
    "abacia = Hbacia/2\n",
    "ubacia = VelocidadeOrbitalMax(abacia,k16,sigma)\n",
    "md(\"\"\"\n",
    "$H = %.3f \\; m $ \\n\n",
    "$u = %.3f \\; m/s$\n",
    "\"\"\" % (Hbacia, ubacia))\n"
   ]
  },
  {
   "cell_type": "markdown",
   "metadata": {},
   "source": [
    "### Item B"
   ]
  },
  {
   "cell_type": "markdown",
   "metadata": {},
   "source": [
    "Pode-se considerar $ \\frac{b_0}{b} = 1$ uma vez que se estamos calculando para um cenário em Mar Aberto"
   ]
  },
  {
   "cell_type": "code",
   "execution_count": 8,
   "metadata": {},
   "outputs": [
    {
     "data": {
      "text/markdown": [
       "\n",
       "$H = 13.514 \\; m $ \n",
       "\n",
       "$u = 5.557 \\; m/s$\n"
      ],
      "text/plain": [
       "<IPython.core.display.Markdown object>"
      ]
     },
     "execution_count": 8,
     "metadata": {},
     "output_type": "execute_result"
    }
   ],
   "source": [
    "C16 = Celeridade(L16,T)\n",
    "b0_b = 1\n",
    "H16 = calcularH(H0,n16,C0,C16,b0_b)\n",
    "a16 = H16/2\n",
    "u16 = VelocidadeOrbitalMax(a16,k16,sigma)\n",
    "md(\"\"\"\n",
    "$H = %.3f \\; m $ \\n\n",
    "$u = %.3f \\; m/s$\n",
    "\"\"\" % (H16, u16))"
   ]
  },
  {
   "cell_type": "markdown",
   "metadata": {},
   "source": [
    "### Item C\n",
    "$$ T = \\frac{2}{\\sqrt{gd}} \\left[\\left(\\frac{1}{L_A}\\right)^2 + \\left(\\frac{1}{L_B}\\right)^2 \\right]^{-\\frac{1}{2}} $$"
   ]
  },
  {
   "cell_type": "code",
   "execution_count": 9,
   "metadata": {},
   "outputs": [
    {
     "data": {
      "text/markdown": [
       "\n",
       "$T_{bacia} = 34.887 \\; seg $\n"
      ],
      "text/plain": [
       "<IPython.core.display.Markdown object>"
      ]
     },
     "execution_count": 9,
     "metadata": {},
     "output_type": "execute_result"
    }
   ],
   "source": [
    "def PedriodoFundamentalDeOscilacao(d,La,Lb):\n",
    "    return 2/(g*d)**0.5 * ((1/La)**2 + (1/Lb)**2)**-0.5\n",
    "\n",
    "Tbacia = PedriodoFundamentalDeOscilacao(d1,cim,cib)\n",
    "\n",
    "md(\"\"\"\n",
    "$T_{bacia} = %.3f \\; seg $\n",
    "\"\"\" % Tbacia)"
   ]
  },
  {
   "cell_type": "code",
   "execution_count": 10,
   "metadata": {
    "hide_input": false
   },
   "outputs": [
    {
     "name": "stdout",
     "output_type": "stream",
     "text": [
      "Não haverá possibilidade de agitação por ressonância dentro da bacia portuária !\n"
     ]
    }
   ],
   "source": [
    "if Tbacia > T:\n",
    "    print(\"Não haverá possibilidade de agitação por ressonância dentro da bacia portuária !\")\n",
    "    \n",
    "else:\n",
    "    print(\"Haverá possibilidade de agitação por ressonância dentro da bacia portuária !\")"
   ]
  }
 ],
 "metadata": {
  "kernelspec": {
   "display_name": "Python 3",
   "language": "python",
   "name": "python3"
  },
  "language_info": {
   "codemirror_mode": {
    "name": "ipython",
    "version": 3
   },
   "file_extension": ".py",
   "mimetype": "text/x-python",
   "name": "python",
   "nbconvert_exporter": "python",
   "pygments_lexer": "ipython3",
   "version": "3.6.10"
  },
  "varInspector": {
   "cols": {
    "lenName": 16,
    "lenType": 16,
    "lenVar": 40
   },
   "kernels_config": {
    "python": {
     "delete_cmd_postfix": "",
     "delete_cmd_prefix": "del ",
     "library": "var_list.py",
     "varRefreshCmd": "print(var_dic_list())"
    },
    "r": {
     "delete_cmd_postfix": ") ",
     "delete_cmd_prefix": "rm(",
     "library": "var_list.r",
     "varRefreshCmd": "cat(var_dic_list()) "
    }
   },
   "types_to_exclude": [
    "module",
    "function",
    "builtin_function_or_method",
    "instance",
    "_Feature"
   ],
   "window_display": false
  }
 },
 "nbformat": 4,
 "nbformat_minor": 4
}
