{
 "cells": [
  {
   "cell_type": "markdown",
   "metadata": {},
   "source": [
    "# NTF 4 - Portos\n",
    "## Hidráulica Marítimica\n",
    "\n",
    "Aluno: Francisco José Matos Nogueira Filho\n",
    "\n",
    "Matricula: 384962"
   ]
  },
  {
   "cell_type": "code",
   "execution_count": 1,
   "metadata": {},
   "outputs": [],
   "source": [
    "import numpy as np\n",
    "from numpy import pi\n",
    "from IPython.display import Markdown as md"
   ]
  },
  {
   "cell_type": "markdown",
   "metadata": {},
   "source": [
    "## Dados da onda em Alto Mar"
   ]
  },
  {
   "cell_type": "code",
   "execution_count": 2,
   "metadata": {},
   "outputs": [],
   "source": [
    "## Dados da onda em Alto Mar\n",
    "\n",
    "H0 = 4 #m\n",
    "T = 10 #s\n",
    "g = 9.81 #m/s^2"
   ]
  },
  {
   "cell_type": "markdown",
   "metadata": {},
   "source": [
    "### Redimencionamento da Altura de RAM"
   ]
  },
  {
   "cell_type": "code",
   "execution_count": 3,
   "metadata": {},
   "outputs": [
    {
     "data": {
      "text/markdown": [
       "$L_0 = 156.130999$ M"
      ],
      "text/plain": [
       "<IPython.core.display.Markdown object>"
      ]
     },
     "execution_count": 3,
     "metadata": {},
     "output_type": "execute_result"
    }
   ],
   "source": [
    "def comprimentoDeOnda(Periodo):\n",
    "    return (9.81 * Periodo**2)/(2 * pi)\n",
    "\n",
    "L0 = comprimentoDeOnda(T)\n",
    "\n",
    "#Resposta\n",
    "md(\"$L_0 = %f$ M\"%(L0))"
   ]
  },
  {
   "cell_type": "code",
   "execution_count": 4,
   "metadata": {},
   "outputs": [
    {
     "data": {
      "text/markdown": [
       "$C_0 = 15.613100$ m/s"
      ],
      "text/plain": [
       "<IPython.core.display.Markdown object>"
      ]
     },
     "execution_count": 4,
     "metadata": {},
     "output_type": "execute_result"
    }
   ],
   "source": [
    "def Celeridade(Comprimento,T):\n",
    "    return Comprimento/T\n",
    "\n",
    "C0 = Celeridade(L0,T)\n",
    "\n",
    "#Resposta\n",
    "md(\"$C_0 = %f$ m/s\"%(C0))"
   ]
  },
  {
   "cell_type": "code",
   "execution_count": 5,
   "metadata": {},
   "outputs": [
    {
     "data": {
      "text/markdown": [
       "$\\sigma = 0.628319 s^{-1}$"
      ],
      "text/plain": [
       "<IPython.core.display.Markdown object>"
      ]
     },
     "execution_count": 5,
     "metadata": {},
     "output_type": "execute_result"
    }
   ],
   "source": [
    "_sigma = 2*pi/T\n",
    "md(\"$\\sigma = %f s^{-1}$\"%(_sigma))"
   ]
  },
  {
   "cell_type": "markdown",
   "metadata": {},
   "source": [
    "Aproximaremos h pela equação de Hunt\n",
    "## [1] $ y = \\frac{\\sigma^2 h}{g} $\n",
    "## [2] $(Kh)^2 = y^2 + \\frac{y}{1+ 0.666*y^2 + 0.355*y^3 + 0.161*y^4 + 0.063*y^4 + 0.022*y^5 +0.0065*y^6} $\n",
    "## [3] $ Kx = \\frac{KH}{h} $\n",
    "## [4] $ L_x = L_0 \\tanh(K_x H_x) $\n",
    "## [5] $ n = 0.5  \\left[ 1 + \\frac{Kd}{ senh(2Kd) } \\right] $\n",
    "## [7] $ h = H_0 \\sqrt{\\frac{b_0}{b}}\\sqrt{\\frac{1}{2} \\frac{1}{n} \\frac{C_0}{C}} $\n",
    "\n",
    "Usarei uma função `minimize` do pacote de calculo númerico [scipy](https://docs.scipy.org/doc/scipy/reference/generated/scipy.optimize.minimize.html) para minimizar a função"
   ]
  },
  {
   "cell_type": "code",
   "execution_count": 6,
   "metadata": {},
   "outputs": [],
   "source": [
    "from scipy.optimize import minimize, newton_krylov, broyden1, curve_fit\n",
    " #m\n",
    "\n",
    "def calcularY(sigma,h,g): #1\n",
    "    return (sigma**2 * h)/g\n",
    "def calculateKH(y): #2\n",
    "    return (y**2 +y/(1+ 0.666*y + 0.355*y**2 + 0.161*y**3 + 0.063*y**4 + 0.022*y**5 +0.0065*y**6))**0.5\n",
    "def calculateKx(KH,h): #3\n",
    "    return KH/h\n",
    "def calculateLx(L0, Kx, Hx): #4\n",
    "    return L0*np.tanh(Kx*Hx)\n",
    "\n",
    "def calculateN(K,d): #5\n",
    "    return 0.5 * (1 + (2*K*d)/np.sinh(2*K*d))\n",
    "def calculateC(Lx,T): #6\n",
    "    return Lx/T\n",
    "def calculateH(H0,n,C0,C): #7\n",
    "    return H0 * (1 * 0.5* 1/n * C0/C)**0.5\n"
   ]
  },
  {
   "cell_type": "code",
   "execution_count": 7,
   "metadata": {},
   "outputs": [],
   "source": [
    "def fu(h):\n",
    "    H_desejado = 5 #m\n",
    "    y = calcularY(_sigma,h,g)\n",
    "    KH = calculateKH(y)\n",
    "    Kx = calculateKx(KH,h)\n",
    "    Lx = calculateLx(L0, Kx, h)\n",
    "    n = calculateN(Kx, h)\n",
    "    C = calculateC(Lx,T)\n",
    "    H = calculateH(H0,n,C0,C)\n",
    "    \n",
    "    return (H-H_desejado)**2\n",
    "x0 = 1 #Palpite inicial\n",
    "solv = minimize(fu,x0,method='SLSQP')\n",
    "h = (solv.x)[0]"
   ]
  },
  {
   "cell_type": "code",
   "execution_count": 8,
   "metadata": {},
   "outputs": [],
   "source": [
    "y = calcularY(_sigma,h,g)\n",
    "KH = calculateKH(y)\n",
    "Kx = calculateKx(KH,h)\n",
    "Lx = calculateLx(L0, Kx, h)\n",
    "n = calculateN(Kx, h)\n",
    "C = calculateC(Lx,T)\n",
    "H = calculateH(H0,n,C0,C)"
   ]
  },
  {
   "cell_type": "code",
   "execution_count": 9,
   "metadata": {},
   "outputs": [
    {
     "data": {
      "text/markdown": [
       "\n",
       "$ H_x = 2.856527 $m \n",
       "\n",
       "$y = 0.114955 $m \n",
       "\n",
       "$ Kh = 0.345697 $ \n",
       "\n",
       "$ K_x = 0.121020 $ \n",
       "\n",
       "$ L_x = 51.921988 $m \n",
       "\n",
       "$ n = 0.962279 $ \n",
       "\n",
       "$ C = 5.192199 $ \n",
       "\n",
       "$ H = 4.999923 $m \n",
       "\n"
      ],
      "text/plain": [
       "<IPython.core.display.Markdown object>"
      ]
     },
     "execution_count": 9,
     "metadata": {},
     "output_type": "execute_result"
    }
   ],
   "source": [
    "md(\"\"\"\n",
    "$ H_x = %f $m \\n\n",
    "$y = %f $m \\n\n",
    "$ Kh = %f $ \\n\n",
    "$ K_x = %f $ \\n\n",
    "$ L_x = %f $m \\n\n",
    "$ n = %f $ \\n\n",
    "$ C = %f $ \\n\n",
    "$ H = %f $m \\n\n",
    "\"\"\" % (h,y,KH,Kx,Lx,n,C,H))"
   ]
  },
  {
   "cell_type": "markdown",
   "metadata": {},
   "source": [
    "### Energia de Onda\n",
    "# $$ E = \\overline{E} L = \\frac{\\rho g H^2 L}{8} $$"
   ]
  },
  {
   "cell_type": "code",
   "execution_count": 10,
   "metadata": {},
   "outputs": [
    {
     "data": {
      "text/markdown": [
       "$E = 1645852.367678 $ Joules \n",
       "\n",
       "    ou \n",
       " $E = 167.772922 $ tf m "
      ],
      "text/plain": [
       "<IPython.core.display.Markdown object>"
      ]
     },
     "execution_count": 10,
     "metadata": {},
     "output_type": "execute_result"
    }
   ],
   "source": [
    "rho = 1034\n",
    "H_rec = 5\n",
    "E = (1034 * g * H_rec**2 * Lx)/8\n",
    "\n",
    "# Para comprimento de crista = 1m\n",
    "md(\"\"\"$E = %f $ Joules \\n\n",
    "    ou \\n $E = %f $ tf m \"\"\"%(E, E/(9.81*1000)))\n"
   ]
  },
  {
   "cell_type": "markdown",
   "metadata": {},
   "source": [
    "### Força de impacto da onda no topo do RAM\n",
    "# $ u = \\frac{a g K cosh[K (d + z)]}{\\sigma cosh(Kd)} cos(Kx - \\sigma t)$"
   ]
  },
  {
   "cell_type": "code",
   "execution_count": 11,
   "metadata": {},
   "outputs": [
    {
     "data": {
      "text/markdown": [
       "$ u_{ max\\; em\\; z = -2.85} = 3.671537 $ m/s"
      ],
      "text/plain": [
       "<IPython.core.display.Markdown object>"
      ]
     },
     "execution_count": 11,
     "metadata": {},
     "output_type": "execute_result"
    }
   ],
   "source": [
    "d = 12 - h\n",
    "a = H_rec/2\n",
    "u = (a * g * Kx * np.cosh(Kx * (d - h)))/(_sigma * np.cosh(Kx * d))\n",
    "\n",
    "md(\"$ u_{ max\\; em\\; z = -2.85} = %f $ m/s\" % u)"
   ]
  },
  {
   "cell_type": "code",
   "execution_count": 12,
   "metadata": {},
   "outputs": [
    {
     "data": {
      "text/markdown": [
       "$ F = 95715.730145 $ N"
      ],
      "text/plain": [
       "<IPython.core.display.Markdown object>"
      ]
     },
     "execution_count": 12,
     "metadata": {},
     "output_type": "execute_result"
    }
   ],
   "source": [
    "#Para coeficiente hidrodinâmico C = 1.4\n",
    "A = 1\n",
    "F = 0.5 * 1.4 * rho * g * u**2 * A\n",
    "md(\"$ F = %f $ N\" % F)"
   ]
  }
 ],
 "metadata": {
  "kernelspec": {
   "display_name": "Python 3",
   "language": "python",
   "name": "python3"
  },
  "language_info": {
   "codemirror_mode": {
    "name": "ipython",
    "version": 3
   },
   "file_extension": ".py",
   "mimetype": "text/x-python",
   "name": "python",
   "nbconvert_exporter": "python",
   "pygments_lexer": "ipython3",
   "version": "3.6.10"
  },
  "varInspector": {
   "cols": {
    "lenName": 16,
    "lenType": 16,
    "lenVar": 40
   },
   "kernels_config": {
    "python": {
     "delete_cmd_postfix": "",
     "delete_cmd_prefix": "del ",
     "library": "var_list.py",
     "varRefreshCmd": "print(var_dic_list())"
    },
    "r": {
     "delete_cmd_postfix": ") ",
     "delete_cmd_prefix": "rm(",
     "library": "var_list.r",
     "varRefreshCmd": "cat(var_dic_list()) "
    }
   },
   "types_to_exclude": [
    "module",
    "function",
    "builtin_function_or_method",
    "instance",
    "_Feature"
   ],
   "window_display": false
  }
 },
 "nbformat": 4,
 "nbformat_minor": 4
}
