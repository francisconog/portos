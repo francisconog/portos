{
 "cells": [
  {
   "cell_type": "markdown",
   "metadata": {},
   "source": [
    "# NTF 5 - Portos\n",
    "## Fenômenos de Hidráulica Marítimica\n",
    "\n",
    "Aluno: Francisco José Matos Nogueira Filho\n",
    "\n",
    "Matricula: 384962"
   ]
  },
  {
   "cell_type": "code",
   "execution_count": 1,
   "metadata": {},
   "outputs": [],
   "source": [
    "import numpy as np\n",
    "from numpy import pi\n",
    "from IPython.display import Markdown as md"
   ]
  },
  {
   "cell_type": "markdown",
   "metadata": {},
   "source": [
    "## Dados da onda em Alto Mar"
   ]
  },
  {
   "cell_type": "code",
   "execution_count": 2,
   "metadata": {},
   "outputs": [],
   "source": [
    "## Dados da onda em Alto Mar\n",
    "\n",
    "H0 = 4 #m\n",
    "T = 10 #s\n",
    "g = 9.81 #m/s^2"
   ]
  },
  {
   "cell_type": "markdown",
   "metadata": {},
   "source": [
    "### Critério de McCowan\n",
    "# $ d_b = \\frac{1}{g^{1/5}k^{4/5}} \\left[\\frac{H_0^2C_0 cos\\theta_0}{2}\\right]^{2/5}$"
   ]
  },
  {
   "cell_type": "code",
   "execution_count": 3,
   "metadata": {},
   "outputs": [
    {
     "data": {
      "text/markdown": [
       "$L_0 = 156.13 \\; m$"
      ],
      "text/plain": [
       "<IPython.core.display.Markdown object>"
      ]
     },
     "execution_count": 3,
     "metadata": {},
     "output_type": "execute_result"
    }
   ],
   "source": [
    "def comprimentoDeOnda(Periodo):\n",
    "    return (9.81 * Periodo**2)/(2 * pi)\n",
    "\n",
    "L0 = comprimentoDeOnda(T)\n",
    "\n",
    "#Resposta\n",
    "md(\"$L_0 = %.2f \\; m$\"%(L0))"
   ]
  },
  {
   "cell_type": "code",
   "execution_count": 4,
   "metadata": {},
   "outputs": [
    {
     "data": {
      "text/markdown": [
       "$C_0 = 15.61 \\; m/s$"
      ],
      "text/plain": [
       "<IPython.core.display.Markdown object>"
      ]
     },
     "execution_count": 4,
     "metadata": {},
     "output_type": "execute_result"
    }
   ],
   "source": [
    "def Celeridade(Comprimento,T):\n",
    "    return Comprimento/T\n",
    "\n",
    "C0 = Celeridade(L0,T)\n",
    "\n",
    "#Resposta\n",
    "md(\"$C_0 = %.2f \\; m/s$\"%(C0))"
   ]
  },
  {
   "cell_type": "code",
   "execution_count": 5,
   "metadata": {},
   "outputs": [
    {
     "data": {
      "text/markdown": [
       "$d_b = 5.33 \\; m$"
      ],
      "text/plain": [
       "<IPython.core.display.Markdown object>"
      ]
     },
     "execution_count": 5,
     "metadata": {},
     "output_type": "execute_result"
    }
   ],
   "source": [
    "def profundidadeQuebra(k,H0,C0,theta0):\n",
    "    return 1/(g**0.2*k**0.8) * ((H0**2 * C0 * np.cos(theta0))/2)**0.4\n",
    "\n",
    "k = 0.78\n",
    "theta0 = 0\n",
    "db = profundidadeQuebra(k,H0,C0,theta0)\n",
    "\n",
    "#Resposta\n",
    "md(\"$d_b = %.2f \\; m$\"%(db))"
   ]
  },
  {
   "cell_type": "markdown",
   "metadata": {},
   "source": [
    "### Distância contada da linha da costa para a zona do início da arrebentação\n",
    "# $ x_b = \\frac{d_b}{m} $"
   ]
  },
  {
   "cell_type": "code",
   "execution_count": 6,
   "metadata": {},
   "outputs": [
    {
     "data": {
      "text/markdown": [
       "$x_b = 106.57 \\; m$"
      ],
      "text/plain": [
       "<IPython.core.display.Markdown object>"
      ]
     },
     "execution_count": 6,
     "metadata": {},
     "output_type": "execute_result"
    }
   ],
   "source": [
    "def distCosta_initArrebentacao(db,m):\n",
    "    return db/m\n",
    "\n",
    "m = 0.05\n",
    "xb = distCosta_initArrebentacao(db,m)\n",
    "#Resposta\n",
    "md(\"$x_b = %.2f \\; m$\"%(xb))"
   ]
  },
  {
   "cell_type": "markdown",
   "metadata": {},
   "source": [
    "### Altura provável de quebra da onda durante a arrebentação\n",
    "# $ H_b = k d_b $"
   ]
  },
  {
   "cell_type": "code",
   "execution_count": 7,
   "metadata": {},
   "outputs": [
    {
     "data": {
      "text/markdown": [
       "$H_b = 4.16 \\; m$"
      ],
      "text/plain": [
       "<IPython.core.display.Markdown object>"
      ]
     },
     "execution_count": 7,
     "metadata": {},
     "output_type": "execute_result"
    }
   ],
   "source": [
    "def alturaOndaNaQuebra(k,db):\n",
    "    return k * db\n",
    "\n",
    "Hb = alturaOndaNaQuebra(k,db)\n",
    "\n",
    "#Resposta\n",
    "md(\"$H_b = %.2f \\; m$\"%(Hb))"
   ]
  }
 ],
 "metadata": {
  "kernelspec": {
   "display_name": "Python 3",
   "language": "python",
   "name": "python3"
  },
  "language_info": {
   "codemirror_mode": {
    "name": "ipython",
    "version": 3
   },
   "file_extension": ".py",
   "mimetype": "text/x-python",
   "name": "python",
   "nbconvert_exporter": "python",
   "pygments_lexer": "ipython3",
   "version": "3.6.10"
  },
  "varInspector": {
   "cols": {
    "lenName": 16,
    "lenType": 16,
    "lenVar": 40
   },
   "kernels_config": {
    "python": {
     "delete_cmd_postfix": "",
     "delete_cmd_prefix": "del ",
     "library": "var_list.py",
     "varRefreshCmd": "print(var_dic_list())"
    },
    "r": {
     "delete_cmd_postfix": ") ",
     "delete_cmd_prefix": "rm(",
     "library": "var_list.r",
     "varRefreshCmd": "cat(var_dic_list()) "
    }
   },
   "types_to_exclude": [
    "module",
    "function",
    "builtin_function_or_method",
    "instance",
    "_Feature"
   ],
   "window_display": false
  }
 },
 "nbformat": 4,
 "nbformat_minor": 4
}
