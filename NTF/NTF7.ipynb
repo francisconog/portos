{
 "cells": [
  {
   "cell_type": "markdown",
   "metadata": {},
   "source": [
    "# NTF 7 - Portos\n",
    "## Dimensionamento de Berços, Armazéns e Vias Ferreas portuárias\n",
    "\n",
    "Aluno: Francisco José Matos Nogueira Filho\n",
    "\n",
    "Matricula: 384962"
   ]
  },
  {
   "cell_type": "code",
   "execution_count": 1,
   "metadata": {},
   "outputs": [],
   "source": [
    "import numpy as np\n",
    "from numpy import pi\n",
    "from IPython.display import Markdown as md"
   ]
  },
  {
   "cell_type": "markdown",
   "metadata": {},
   "source": [
    "### Questão 1 - Capacidade de recebimento de uma Linha Férrea"
   ]
  },
  {
   "cell_type": "code",
   "execution_count": 2,
   "metadata": {},
   "outputs": [],
   "source": [
    "bercoCais = 500 #m\n",
    "nPoroes = 5\n",
    "velocidade = 60 #t/terno*hora\n",
    "\n",
    "Lvagao = 20 #m\n",
    "#capacidade de carga por vagão (ccpv)\n",
    "ccpv= 50 #t/vagão\n",
    "# tempo perdido com operações auxiliares (tpoa)\n",
    "tpoa = 1 #hora\n",
    "paralisacoes= 0.2# da jornada de trabalho\n",
    "#jornada diária de trabalho\n",
    "jdt = 20 #horas/dia\n",
    "#tempo perdido com chuva e intempéries\n",
    "tpci = 22 #dias/ano\n",
    "#DiasSemFuncionar = #o porto não opera aos domingos e durante 11 feriados nacionais\n",
    "#dias operavveis\n",
    "do = 280 #dias/ano\n"
   ]
  },
  {
   "cell_type": "code",
   "execution_count": 3,
   "metadata": {},
   "outputs": [
    {
     "data": {
      "text/markdown": [
       "\n",
       "$nvl = 25$ vagões \n",
       "\n",
       "$tev = 4.17$ horas \n",
       "\n",
       "$tr = 5.21$ horas \n",
       "\n",
       "$tac = 6.21$ horas/comboio \n",
       "\n",
       "$rot = 3.22$ comboios/dia \n",
       "\n",
       "$nvd = 80.54$ vagões/dia \n",
       "\n",
       "$crd = 4026.85$ t/dia \n",
       "\n",
       "$cra = 1127516.78$ t/ano \n"
      ],
      "text/plain": [
       "<IPython.core.display.Markdown object>"
      ]
     },
     "execution_count": 3,
     "metadata": {},
     "output_type": "execute_result"
    }
   ],
   "source": [
    "#número de vagões na linha (nvl)\n",
    "nvl = bercoCais/Lvagao\n",
    "\n",
    "#tempo de operação para encher os vagões (tev)\n",
    "tev = nvl * ccpv /(nPoroes * velocidade)\n",
    "\n",
    "#tempo real devido paralisações (tr)\n",
    "tr = tev/(1 - paralisacoes)\n",
    "\n",
    "#tempo de atendimento para o comboio (tac)\n",
    "tac = tr + tpoa\n",
    "\n",
    "#rotatividade diária (rot)\n",
    "rot = jdt/tac\n",
    "\n",
    "#número de vagões operados por dia (nvd)\n",
    "nvd = nvl * rot\n",
    "\n",
    "#capacidade de recebimento por dia (crd)\n",
    "crd = nvd * ccpv\n",
    "#capacidade de recebimento anual (cra)\n",
    "\n",
    "cra = crd * do\n",
    "\n",
    "md(f\"\"\"\n",
    "$nvl = {nvl:.0f}$ vagões \\n\n",
    "$tev = {tev:.2f}$ horas \\n\n",
    "$tr = {tr:.2f}$ horas \\n\n",
    "$tac = {tac:.2f}$ horas/comboio \\n\n",
    "$rot = {rot:.2f}$ comboios/dia \\n\n",
    "$nvd = {nvd:.2f}$ vagões/dia \\n\n",
    "$crd = {crd:.2f}$ t/dia \\n\n",
    "$cra = {cra:.2f}$ t/ano \n",
    "\"\"\")"
   ]
  },
  {
   "cell_type": "markdown",
   "metadata": {},
   "source": [
    "### Questão 2 - Dimensionamento de Berços"
   ]
  },
  {
   "cell_type": "code",
   "execution_count": 4,
   "metadata": {},
   "outputs": [],
   "source": [
    "# capacidade anual\n",
    "ca = 2135500 # t/ano\n",
    "\n",
    "#velocidade de carga/descarga nos equipamentos portuários\n",
    "vcd = 60 #t/terno*hora\n",
    "\n",
    "#Tempo para atracar e desatracar navios\n",
    "tadn = 1 #hora\n",
    "\n",
    "#Número de dias de operação portuária por ano\n",
    "ndias = 313 #dias/ano\n",
    "\n",
    "\n",
    "#capacidade de carga dos navios\n",
    "ccn = 11000 #t\n",
    "\n",
    "# opera com 3 porões simultaneamente com \n",
    "nPoroes = 3\n",
    "#terno por porão\n",
    "tpp = 1\n",
    "#A jornada de trabalho\n",
    "jtd =  20 #horas/dia\n",
    "\n",
    "paralisacoes= 0.2# da jornada de trabalho\n",
    "\n",
    "#rendimento da capacidade máxima possível de movimentação de carga anual.\n",
    "rcmax = 0.8"
   ]
  },
  {
   "cell_type": "code",
   "execution_count": 5,
   "metadata": {},
   "outputs": [
    {
     "data": {
      "text/markdown": [
       "\n",
       "$td = 61.11$ horas \n",
       "\n",
       "$tad = 77.39$ horas \n",
       "\n",
       "$vr = 142.14$ t/hora \n",
       "\n",
       "$ped = 2842.79$ t/dia \n",
       "\n",
       "$cam = 889791.82$ t/ano \n",
       "\n",
       "$cea = 711833.45$ t/ano \n",
       "\n",
       "$n_{berços} = 3$\n"
      ],
      "text/plain": [
       "<IPython.core.display.Markdown object>"
      ]
     },
     "execution_count": 5,
     "metadata": {},
     "output_type": "execute_result"
    }
   ],
   "source": [
    "#tempo de descarga (td)\n",
    "td = ccn/(nPoroes * vcd)\n",
    "\n",
    "#tempo atracado (ta)\n",
    "ta = td/(1 - paralisacoes)\n",
    "\n",
    "#tempo de atendimento a cada navio (tad)\n",
    "tad = ta + tadn\n",
    "\n",
    "#velocidade real de carga/descarga (vr)\n",
    "vr = ccn/tad\n",
    "\n",
    "#produtividade efetiva diária (ped)\n",
    "ped = vr * jtd\n",
    "\n",
    "#capacidade anual máxima possível (cam)\n",
    "cam = ndias * ped\n",
    "\n",
    "#capacidade efetiva anual em função da rotatividade (cea)\n",
    "cea = rcmax * cam\n",
    "\n",
    "#número de berços de cais\n",
    "nbercos = ca / cea\n",
    "\n",
    "md(\"\"\"\n",
    "$td = %.2f$ horas \\n\n",
    "$tad = %.2f$ horas \\n\n",
    "$vr = %.2f$ t/hora \\n\n",
    "$ped = %.2f$ t/dia \\n\n",
    "$cam = %.2f$ t/ano \\n\n",
    "$cea = %.2f$ t/ano \\n\n",
    "$n_{berços} = %.0f$\n",
    "\"\"\" % (td,tad,vr,ped,cam,cea,nbercos))"
   ]
  },
  {
   "cell_type": "markdown",
   "metadata": {},
   "source": [
    "### Questão 3 - Dimensionamento do comprimento do armazém portuário necessário"
   ]
  },
  {
   "cell_type": "code",
   "execution_count": 6,
   "metadata": {},
   "outputs": [],
   "source": [
    "# capacidade de armazenagem anual\n",
    "ca = 2135500 #t  \n",
    "# volume específico\n",
    "ve = 1.8 #m^3/t \n",
    "\n",
    "#Largura máxima\n",
    "lMax = 100 #m \n",
    "\n",
    "#capacidade estática máxima\n",
    "cem = 5 #t/m \n",
    "\n",
    "#permanência média da carga geral é de \n",
    "pm = 7 #dias/mês\n",
    "\n",
    "#altura máxima de empilhamento\n",
    "ame = 3.5 #m \n",
    "#porcentagem área útil\n",
    "pau = 0.65"
   ]
  },
  {
   "cell_type": "code",
   "execution_count": 7,
   "metadata": {},
   "outputs": [
    {
     "name": "stdout",
     "output_type": "stream",
     "text": [
      "OK! pode-se armazenar a 1.94m de altura!\n"
     ]
    },
    {
     "data": {
      "text/markdown": [
       "\n",
       "$cdm = 177958.33$ t/mês \n",
       "\n",
       "$x_{(t)} = 1.94 \\; t/m^2$  \n",
       "\n",
       "$rot = 4.29$ /mês \n",
       "\n",
       "$a_u = 21355.00 \\; m^2$ \n",
       "\n",
       "$a_t = 32853.85 \\; m^2$ \n",
       "\n",
       "$C_{armazém} = 328.54 \\; m$ \n",
       "\n"
      ],
      "text/plain": [
       "<IPython.core.display.Markdown object>"
      ]
     },
     "execution_count": 7,
     "metadata": {},
     "output_type": "execute_result"
    }
   ],
   "source": [
    "#capacidade dinâmica mensal (cd)\n",
    "cdm = ca/12\n",
    "\n",
    "#\n",
    "x_t = ame / ve\n",
    "\n",
    "if x_t <cem:\n",
    "    print(f\"OK! pode-se armazenar a {x_t:.2f}m de altura!\")\n",
    "else:\n",
    "    print(f\"Problema na altura de armazenamento: {x_t:.2f} < {cem}\")\n",
    "\n",
    "#rotatividade da carga (rot)\n",
    "rot = 30 / pm\n",
    "\n",
    "#area útil (au)\n",
    "au = cdm / (x_t * rot)\n",
    "\n",
    "#área total (at)\n",
    "at = au/pau\n",
    "\n",
    "#comprimento do armazém\n",
    "car = at/lMax\n",
    "\n",
    "\n",
    "md(\"\"\"\n",
    "$cdm = %.2f$ t/mês \\n\n",
    "$x_{(t)} = %.2f \\; t/m^2$  \\n\n",
    "$rot = %.2f$ /mês \\n\n",
    "$a_u = %.2f \\; m^2$ \\n\n",
    "$a_t = %.2f \\; m^2$ \\n\n",
    "$C_{armazém} = %.2f \\; m$ \\n\n",
    "\"\"\"%(cdm,x_t,rot,au,at,car))"
   ]
  }
 ],
 "metadata": {
  "kernelspec": {
   "display_name": "Python 3",
   "language": "python",
   "name": "python3"
  },
  "language_info": {
   "codemirror_mode": {
    "name": "ipython",
    "version": 3
   },
   "file_extension": ".py",
   "mimetype": "text/x-python",
   "name": "python",
   "nbconvert_exporter": "python",
   "pygments_lexer": "ipython3",
   "version": "3.6.10"
  },
  "varInspector": {
   "cols": {
    "lenName": 16,
    "lenType": 16,
    "lenVar": 40
   },
   "kernels_config": {
    "python": {
     "delete_cmd_postfix": "",
     "delete_cmd_prefix": "del ",
     "library": "var_list.py",
     "varRefreshCmd": "print(var_dic_list())"
    },
    "r": {
     "delete_cmd_postfix": ") ",
     "delete_cmd_prefix": "rm(",
     "library": "var_list.r",
     "varRefreshCmd": "cat(var_dic_list()) "
    }
   },
   "types_to_exclude": [
    "module",
    "function",
    "builtin_function_or_method",
    "instance",
    "_Feature"
   ],
   "window_display": false
  }
 },
 "nbformat": 4,
 "nbformat_minor": 2
}
