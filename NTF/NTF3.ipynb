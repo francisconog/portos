{
 "cells": [
  {
   "cell_type": "markdown",
   "metadata": {},
   "source": [
    "# NTF 3 - Portos\n",
    "## Hidráulica Marítimica\n",
    "\n",
    "Aluno: Francisco José Matos Nogueira Filho\n",
    "\n",
    "Matricula: 384962"
   ]
  },
  {
   "cell_type": "code",
   "execution_count": 1,
   "metadata": {},
   "outputs": [],
   "source": [
    "import numpy as np\n",
    "from numpy import pi\n",
    "from IPython.display import Markdown as md"
   ]
  },
  {
   "cell_type": "markdown",
   "metadata": {},
   "source": [
    "## Dados da onda em Alto Mar"
   ]
  },
  {
   "cell_type": "code",
   "execution_count": 2,
   "metadata": {},
   "outputs": [],
   "source": [
    "H0 = 4 #m\n",
    "T = 15 #s"
   ]
  },
  {
   "cell_type": "markdown",
   "metadata": {},
   "source": [
    "### Determinação do comprimento de onda $L_0$ em águas profundas\n",
    "# $$L_0 = \\frac{g T^2}{2 \\pi}$$"
   ]
  },
  {
   "cell_type": "code",
   "execution_count": 3,
   "metadata": {},
   "outputs": [
    {
     "data": {
      "text/markdown": [
       "$L_0 = 351.294748$ M"
      ],
      "text/plain": [
       "<IPython.core.display.Markdown object>"
      ]
     },
     "execution_count": 3,
     "metadata": {},
     "output_type": "execute_result"
    }
   ],
   "source": [
    "def comprimentoDeOnda(Periodo):\n",
    "    return (9.81 * Periodo**2)/(2 * pi)\n",
    "\n",
    "L0 = comprimentoDeOnda(T)\n",
    "\n",
    "#Resposta\n",
    "md(\"$L_0 = %f$ M\"%(L0))"
   ]
  },
  {
   "cell_type": "markdown",
   "metadata": {},
   "source": [
    "### Determinação da Celeridade em águas profundas\n",
    "# $C = \\frac{\\sigma}{K}$ ou $ C = \\frac{L}{T}$"
   ]
  },
  {
   "cell_type": "code",
   "execution_count": 4,
   "metadata": {},
   "outputs": [
    {
     "data": {
      "text/markdown": [
       "$C_0 = 23.419650$ m/s"
      ],
      "text/plain": [
       "<IPython.core.display.Markdown object>"
      ]
     },
     "execution_count": 4,
     "metadata": {},
     "output_type": "execute_result"
    }
   ],
   "source": [
    "def Celeridade(Comprimento,T):\n",
    "    return Comprimento/T\n",
    "\n",
    "C0 = Celeridade(L0,T)\n",
    "\n",
    "#Resposta\n",
    "md(\"$C_0 = %f$ m/s\"%(C0))"
   ]
  },
  {
   "cell_type": "markdown",
   "metadata": {},
   "source": [
    "### Profundidade mínima do mar para que seja considerada águas profundas\n",
    "# $$ d \\geq 0.5 L $$"
   ]
  },
  {
   "cell_type": "code",
   "execution_count": 5,
   "metadata": {},
   "outputs": [
    {
     "data": {
      "text/markdown": [
       "$C_{min} = 175.647374$ m"
      ],
      "text/plain": [
       "<IPython.core.display.Markdown object>"
      ]
     },
     "execution_count": 5,
     "metadata": {},
     "output_type": "execute_result"
    }
   ],
   "source": [
    "d = 0.5*L0\n",
    "\n",
    "#Resposta\n",
    "md(\"$C_{min} = %f$ m\"%(d))"
   ]
  },
  {
   "cell_type": "markdown",
   "metadata": {},
   "source": [
    "### Frequencia Angular e Numero K de ondas\n",
    "# $$ K = \\frac{2 \\pi}{L} $$\n",
    "# $$ \\sigma = \\frac{2 \\pi}{T} $$"
   ]
  },
  {
   "cell_type": "code",
   "execution_count": 6,
   "metadata": {},
   "outputs": [
    {
     "data": {
      "text/markdown": [
       "$K = 0.017886 m^{-1}$"
      ],
      "text/plain": [
       "<IPython.core.display.Markdown object>"
      ]
     },
     "execution_count": 6,
     "metadata": {},
     "output_type": "execute_result"
    }
   ],
   "source": [
    "K = 2*pi/L0\n",
    "\n",
    "#Resposta\n",
    "md(\"$K = %f m^{-1}$\"%(K))"
   ]
  },
  {
   "cell_type": "code",
   "execution_count": 7,
   "metadata": {},
   "outputs": [
    {
     "data": {
      "text/markdown": [
       "$\\sigma = 0.418879$ ciclos/seg"
      ],
      "text/plain": [
       "<IPython.core.display.Markdown object>"
      ]
     },
     "execution_count": 7,
     "metadata": {},
     "output_type": "execute_result"
    }
   ],
   "source": [
    "sigma = 2*pi/T\n",
    "\n",
    "#Resposta\n",
    "md(\"$\\sigma = %f$ ciclos/seg\"%(sigma))"
   ]
  },
  {
   "cell_type": "markdown",
   "metadata": {},
   "source": [
    "### Comprimentos $L_100$ e $C_100$ à 100m de profundidade\n",
    "\n",
    "# $$ L_{100} = L_0 \\tanh(K d_{100}) $$\n",
    "#  $$ C_{100} = \\frac{L_{100}}{T} $$\n"
   ]
  },
  {
   "cell_type": "code",
   "execution_count": 8,
   "metadata": {},
   "outputs": [
    {
     "data": {
      "text/markdown": [
       "$L_{100} = 332.187979$ m"
      ],
      "text/plain": [
       "<IPython.core.display.Markdown object>"
      ]
     },
     "execution_count": 8,
     "metadata": {},
     "output_type": "execute_result"
    }
   ],
   "source": [
    "L100 = L0 *np.tanh(K*100)\n",
    "\n",
    "#Resposta\n",
    "md(\"$L_{100} = %f$ m\"%(L100))"
   ]
  },
  {
   "cell_type": "code",
   "execution_count": 9,
   "metadata": {},
   "outputs": [
    {
     "data": {
      "text/markdown": [
       "$C_{100} = 22.145865$ m/s"
      ],
      "text/plain": [
       "<IPython.core.display.Markdown object>"
      ]
     },
     "execution_count": 9,
     "metadata": {},
     "output_type": "execute_result"
    }
   ],
   "source": [
    "C100 = Celeridade(L100,T)\n",
    "#Resposta\n",
    "md(\"$C_{100} = %f$ m/s\"%(C100))"
   ]
  }
 ],
 "metadata": {
  "kernelspec": {
   "display_name": "Python 3",
   "language": "python",
   "name": "python3"
  },
  "language_info": {
   "codemirror_mode": {
    "name": "ipython",
    "version": 3
   },
   "file_extension": ".py",
   "mimetype": "text/x-python",
   "name": "python",
   "nbconvert_exporter": "python",
   "pygments_lexer": "ipython3",
   "version": "3.6.10"
  },
  "varInspector": {
   "cols": {
    "lenName": 16,
    "lenType": 16,
    "lenVar": 40
   },
   "kernels_config": {
    "python": {
     "delete_cmd_postfix": "",
     "delete_cmd_prefix": "del ",
     "library": "var_list.py",
     "varRefreshCmd": "print(var_dic_list())"
    },
    "r": {
     "delete_cmd_postfix": ") ",
     "delete_cmd_prefix": "rm(",
     "library": "var_list.r",
     "varRefreshCmd": "cat(var_dic_list()) "
    }
   },
   "types_to_exclude": [
    "module",
    "function",
    "builtin_function_or_method",
    "instance",
    "_Feature"
   ],
   "window_display": false
  }
 },
 "nbformat": 4,
 "nbformat_minor": 4
}
