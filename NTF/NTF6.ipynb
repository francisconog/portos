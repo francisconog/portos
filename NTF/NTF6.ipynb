{
 "cells": [
  {
   "cell_type": "markdown",
   "metadata": {},
   "source": [
    "# NTF 6 - Portos\n",
    "## Esforços Hidrodinâmicos e Momentos sobre pilares e tubulões Portuários\n",
    "\n",
    "Aluno: Francisco José Matos Nogueira Filho\n",
    "\n",
    "Matricula: 384962"
   ]
  },
  {
   "cell_type": "code",
   "execution_count": 1,
   "metadata": {},
   "outputs": [],
   "source": [
    "import numpy as np\n",
    "from numpy import pi\n",
    "from IPython.display import Markdown as md"
   ]
  },
  {
   "cell_type": "markdown",
   "metadata": {},
   "source": [
    "## Dados da onda em Alto Mar"
   ]
  },
  {
   "cell_type": "code",
   "execution_count": 2,
   "metadata": {},
   "outputs": [],
   "source": [
    "## Dados da onda em Alto Mar\n",
    "\n",
    "H0 = 4.2 #m\n",
    "T = 9 #s\n",
    "g = 9.81 #m/s^2"
   ]
  },
  {
   "cell_type": "code",
   "execution_count": 3,
   "metadata": {},
   "outputs": [],
   "source": [
    "rhoH2O = 1034 #kgf/m^3\n",
    "rhoC = 2500 #kgf/m^3\n",
    "Es = 2.1e6 #kgf/cmˆ2\n",
    "Ec = 3e5 #kgf/cmˆ2\n",
    "\n",
    "D = 0.7 #m\n",
    "As = (pi * (1.905e-2)**2/4)* 16\n",
    "Ac = pi*D**2/4\n",
    "l = 25 #m"
   ]
  },
  {
   "cell_type": "markdown",
   "metadata": {},
   "source": [
    "### a) A altura da onda a atingir a zona de cravação das estacas"
   ]
  },
  {
   "cell_type": "code",
   "execution_count": 4,
   "metadata": {},
   "outputs": [
    {
     "data": {
      "text/markdown": [
       "$L_0 = 126.47 \\; m$"
      ],
      "text/plain": [
       "<IPython.core.display.Markdown object>"
      ]
     },
     "execution_count": 4,
     "metadata": {},
     "output_type": "execute_result"
    }
   ],
   "source": [
    "def comprimentoDeOnda(Periodo):\n",
    "    return (g * Periodo**2)/(2 * pi)\n",
    "\n",
    "L0 = comprimentoDeOnda(T)\n",
    "\n",
    "#Resposta\n",
    "md(\"$L_0 = %.2f \\; m$\"%(L0))"
   ]
  },
  {
   "cell_type": "code",
   "execution_count": 5,
   "metadata": {},
   "outputs": [
    {
     "data": {
      "text/markdown": [
       "$L_0 = 126.47 \\; m$ \n",
       "\n",
       "$C_0 = 14.05 \\; m/s$"
      ],
      "text/plain": [
       "<IPython.core.display.Markdown object>"
      ]
     },
     "execution_count": 5,
     "metadata": {},
     "output_type": "execute_result"
    }
   ],
   "source": [
    "def comprimentoDeOnda(Periodo):\n",
    "    return (g * Periodo**2)/(2 * pi)\n",
    "def Celeridade(Comprimento,T):\n",
    "    return Comprimento/T\n",
    "L0 = comprimentoDeOnda(T)\n",
    "C0 = Celeridade(L0,T)\n",
    "sigma = 2*pi/T\n",
    "#Resposta\n",
    "md(\"\"\"$L_0 = %.2f \\; m$ \\n\n",
    "$C_0 = %.2f \\; m/s$\"\"\"%(L0,C0))"
   ]
  },
  {
   "cell_type": "code",
   "execution_count": 6,
   "metadata": {},
   "outputs": [
    {
     "data": {
      "text/markdown": [
       "\n",
       "$L = 87.90 \\; m $ \n",
       "\n",
       "$K = 0.07148 \\; $\n"
      ],
      "text/plain": [
       "<IPython.core.display.Markdown object>"
      ]
     },
     "execution_count": 6,
     "metadata": {},
     "output_type": "execute_result"
    }
   ],
   "source": [
    "from scipy.optimize import broyden1\n",
    "#from scipy.optimize import minimize, newton_krylov, broyden1, curve_fit\n",
    "d1 = 12 #m\n",
    "def fu(l):\n",
    "    return (l/L0 - np.tanh((2*pi*d1)/l))**2\n",
    "x0 = 10 #Palpite inicial\n",
    "solv = broyden1(fu,x0,iter=50)\n",
    "L12 = solv\n",
    "\n",
    "def calcularK(L):\n",
    "    return (2 * pi)/L\n",
    "\n",
    "k12 = calcularK(L12)\n",
    "md(\"\"\"\n",
    "$L = %.2f \\; m $ \\n\n",
    "$K = %.5f \\; $\n",
    "\"\"\" % (L12,k12))"
   ]
  },
  {
   "cell_type": "code",
   "execution_count": 7,
   "metadata": {},
   "outputs": [
    {
     "data": {
      "text/markdown": [
       "\n",
       "$n = 0.819$\n"
      ],
      "text/plain": [
       "<IPython.core.display.Markdown object>"
      ]
     },
     "execution_count": 7,
     "metadata": {},
     "output_type": "execute_result"
    }
   ],
   "source": [
    "def calcularN(K,d):\n",
    "    return 0.5 * (1 + (2*K*d)/np.sinh(2*K*d))\n",
    "\n",
    "n12 = calcularN(k12,d1)\n",
    "md(\"\"\"\n",
    "$n = %.3f$\n",
    "\"\"\" % n12)"
   ]
  },
  {
   "cell_type": "markdown",
   "metadata": {},
   "source": [
    "# $ h = H_0 \\sqrt{\\frac{b_0}{b}}\\sqrt{\\frac{1}{2} \\frac{1}{n} \\frac{C_0}{C}} $\n",
    "Pode-se considerar $ \\frac{b_0}{b} = 0$ uma vez que se estamos calculando para um cenário em Mar Aberto"
   ]
  },
  {
   "cell_type": "code",
   "execution_count": 8,
   "metadata": {},
   "outputs": [
    {
     "data": {
      "text/markdown": [
       "\n",
       "$H = 3.936 \\; m $ \n",
       "\n",
       "$u = 1.977 \\; m/s$\n"
      ],
      "text/plain": [
       "<IPython.core.display.Markdown object>"
      ]
     },
     "execution_count": 8,
     "metadata": {},
     "output_type": "execute_result"
    }
   ],
   "source": [
    "def calcularH(H0,n,C0,C):\n",
    "    return H0 * (1 * 0.5* 1/n * C0/C)**0.5\n",
    "def VelocidadeOrbitalMax(a,K,sigma):\n",
    "    return (a * g * K)/sigma\n",
    "C12 = Celeridade(L12,T)\n",
    "H12 = calcularH(H0,n12,C0,C12)\n",
    "a12 = H12/2\n",
    "u12 = VelocidadeOrbitalMax(a12,k12,sigma)\n",
    "md(\"\"\"\n",
    "$H = %.3f \\; m $ \\n\n",
    "$u = %.3f \\; m/s$\n",
    "\"\"\" % (H12, u12))"
   ]
  },
  {
   "cell_type": "markdown",
   "metadata": {},
   "source": [
    "### b) A máxima força de inércia provocada pela onda ao passar pela estaca\n",
    "# $$ F_M = C_M  \\rho g \\frac{\\pi D^2}{4} H k_m $$\n",
    "# $$ k_m = \\frac{1}{2} \\tanh(Kd) \\; sen \\left(\\frac{-2 \\pi t}{T} \\right)$$ \n",
    "\n",
    "Para $ sen(\\frac{-2 \\pi t}{T}) = 1$ tem-se $ k_d = \\frac{1}{2}\\tanh(Kd)$"
   ]
  },
  {
   "cell_type": "code",
   "execution_count": 9,
   "metadata": {},
   "outputs": [
    {
     "data": {
      "text/markdown": [
       "\n",
       "$F_M = 0.762 \\; tf$\n"
      ],
      "text/plain": [
       "<IPython.core.display.Markdown object>"
      ]
     },
     "execution_count": 9,
     "metadata": {},
     "output_type": "execute_result"
    }
   ],
   "source": [
    "Km = 0.5 * np.tanh(k12*d1)\n",
    "Cm = 1.4\n",
    "Fm = Cm * rhoH2O * g * (pi * D**2)/4 * H12 * Km\n",
    "md(\"\"\"\n",
    "$F_M = %.3f \\; tf$\n",
    "\"\"\" % (Fm/9.81e3))"
   ]
  },
  {
   "cell_type": "markdown",
   "metadata": {},
   "source": [
    "### c) A máxima força de arraste provocada pela onda ao passar pela estaca (0,1 ponto);\n",
    "# $$ F_D = C_D \\frac{1}{2} \\rho g D H^2 k_d $$\n",
    "# $$ k_d = \\frac{1}{4} n \\left| \\cos(\\frac{2 \\pi t}{T}) \\right| \\cos(\\frac{2 \\pi t}{T})$$ \n",
    "\n",
    "Para $ \\cos(\\frac{2 \\pi t}{T}) = 1$ tem-se $ K_d = \\frac{n}{4} $"
   ]
  },
  {
   "cell_type": "code",
   "execution_count": 10,
   "metadata": {},
   "outputs": [
    {
     "data": {
      "text/markdown": [
       "\n",
       "$F_D = 1.205 \\; tf$\n"
      ],
      "text/plain": [
       "<IPython.core.display.Markdown object>"
      ]
     },
     "execution_count": 10,
     "metadata": {},
     "output_type": "execute_result"
    }
   ],
   "source": [
    "Kd = n12/4\n",
    "Cd = 1.05\n",
    "Fd = Cd * 0.5 * rhoH2O * g * D * H12**2 * Kd\n",
    "md(\"\"\"\n",
    "$F_D = %.3f \\; tf$\n",
    "\"\"\" % (Fd/9.81e3))"
   ]
  },
  {
   "cell_type": "markdown",
   "metadata": {},
   "source": [
    "### d) O máximo momento de inércia no pé da estaca provocado pela onda\n",
    "# $$ M_M = F_M \\; d \\; s_m $$\n",
    "# $$ s_m = 1 + \\frac{1 - \\cosh(Kd)}{K d \\; senh( K d)} $$"
   ]
  },
  {
   "cell_type": "code",
   "execution_count": 11,
   "metadata": {},
   "outputs": [
    {
     "data": {
      "text/markdown": [
       "\n",
       "$M_M = 4.834 \\; tf•m$\n"
      ],
      "text/plain": [
       "<IPython.core.display.Markdown object>"
      ]
     },
     "execution_count": 11,
     "metadata": {},
     "output_type": "execute_result"
    }
   ],
   "source": [
    "sm = 1 + (1 - np.cosh(k12*d1))/(k12*d1 *np.sinh(k12*d1))\n",
    "Mm = Fm * d1 * sm\n",
    "md(\"\"\"\n",
    "$M_M = %.3f \\; tf•m$\n",
    "\"\"\" % (Mm/9.81e3))"
   ]
  },
  {
   "cell_type": "markdown",
   "metadata": {},
   "source": [
    "### e) O máximo momento de arraste no pé da estaca provocado pela onda\n",
    "# $$ M_d = F_d \\; d \\; s_d $$\n",
    "# $$ s_d = \\frac{1}{2}+ \\frac{1}{2n} \\left(\\frac{1}{2} + \\frac{1 - \\cosh(2Kd)}{2 K d \\; senh(2 K d)}  \\right) $$"
   ]
  },
  {
   "cell_type": "code",
   "execution_count": 12,
   "metadata": {},
   "outputs": [
    {
     "data": {
      "text/markdown": [
       "\n",
       "$M_D = 8.070 \\; tf•m$\n"
      ],
      "text/plain": [
       "<IPython.core.display.Markdown object>"
      ]
     },
     "execution_count": 12,
     "metadata": {},
     "output_type": "execute_result"
    }
   ],
   "source": [
    "sd = 0.5 + 1/(2*n12) * (0.5 + (1 - np.cosh(2* k12*d1))/(2 * k12*d1 * np.sinh(2 * k12*d1)))\n",
    "Md = Fd * d1 * sd\n",
    "md(\"\"\"\n",
    "$M_D = %.3f \\; tf•m$\n",
    "\"\"\" % (Md/9.81e3))"
   ]
  },
  {
   "cell_type": "markdown",
   "metadata": {},
   "source": [
    "### f) A resultante combinada dos momentos de inércia e arraste no pé da estaca\n",
    "# $$ M = M_D + M_M $$"
   ]
  },
  {
   "cell_type": "code",
   "execution_count": 13,
   "metadata": {},
   "outputs": [
    {
     "data": {
      "text/markdown": [
       "\n",
       "$M = 12.904 \\; tf•m$\n"
      ],
      "text/plain": [
       "<IPython.core.display.Markdown object>"
      ]
     },
     "execution_count": 13,
     "metadata": {},
     "output_type": "execute_result"
    }
   ],
   "source": [
    "M = Md + Mm\n",
    "md(\"\"\"\n",
    "$M = %.3f \\; tf•m$\n",
    "\"\"\" % (M/9.81e3))"
   ]
  },
  {
   "cell_type": "markdown",
   "metadata": {},
   "source": [
    "### g) A frequência de vibração própria da estaca numa condição de simplesmente cravada"
   ]
  },
  {
   "cell_type": "code",
   "execution_count": 14,
   "metadata": {},
   "outputs": [
    {
     "data": {
      "text/markdown": [
       "$J = 0.0118 m^4$"
      ],
      "text/plain": [
       "<IPython.core.display.Markdown object>"
      ]
     },
     "execution_count": 14,
     "metadata": {},
     "output_type": "execute_result"
    }
   ],
   "source": [
    "J = (pi*D**4)/64\n",
    "md(\"\"\"$J = %.4f m^4$\"\"\" %J)\n"
   ]
  },
  {
   "cell_type": "code",
   "execution_count": 15,
   "metadata": {},
   "outputs": [
    {
     "data": {
      "text/markdown": [
       "$E_p = 321079.98 kgf/cm^2$"
      ],
      "text/plain": [
       "<IPython.core.display.Markdown object>"
      ]
     },
     "execution_count": 15,
     "metadata": {},
     "output_type": "execute_result"
    }
   ],
   "source": [
    "Ep = (As *Es + Ac*Ec)/(As + Ac)\n",
    "md(\"\"\"$E_p = %.2f kgf/cm^2$\"\"\" %Ep)"
   ]
  },
  {
   "cell_type": "code",
   "execution_count": 16,
   "metadata": {},
   "outputs": [
    {
     "data": {
      "text/markdown": [
       "$\\overline{m} = 1360.04 kg/m^3/ml$"
      ],
      "text/plain": [
       "<IPython.core.display.Markdown object>"
      ]
     },
     "execution_count": 16,
     "metadata": {},
     "output_type": "execute_result"
    }
   ],
   "source": [
    "_m = (rhoH2O + rhoC) * pi * D**2/4\n",
    "md(\"\"\"$\\overline{m} = %.2f kg/m^3/ml$\"\"\" %_m)"
   ]
  },
  {
   "cell_type": "code",
   "execution_count": 17,
   "metadata": {},
   "outputs": [
    {
     "data": {
      "text/markdown": [
       "\n",
       "$\\sqrt{\\frac{E J}{\\overline{m}}} = 166.81$\n"
      ],
      "text/plain": [
       "<IPython.core.display.Markdown object>"
      ]
     },
     "execution_count": 17,
     "metadata": {},
     "output_type": "execute_result"
    }
   ],
   "source": [
    "fator = (Ep*1e4*J/_m)**0.5\n",
    "md(r\"\"\"\n",
    "$\\sqrt{\\frac{E J}{\\overline{m}}} = %.2f$\n",
    "\"\"\" %fator)"
   ]
  },
  {
   "cell_type": "code",
   "execution_count": 18,
   "metadata": {},
   "outputs": [
    {
     "data": {
      "text/markdown": [
       "$f_1 = 0.14946 /seg$"
      ],
      "text/plain": [
       "<IPython.core.display.Markdown object>"
      ]
     },
     "execution_count": 18,
     "metadata": {},
     "output_type": "execute_result"
    }
   ],
   "source": [
    "k = 0.56\n",
    "f1 = k/l**2 * fator\n",
    "md(\"\"\"$f_1 = %.5f /seg$\"\"\" %f1)"
   ]
  },
  {
   "cell_type": "markdown",
   "metadata": {},
   "source": [
    "### h) A velocidade crítica de corrente capaz de produzir ressonância com a estaca simplesmente cravada"
   ]
  },
  {
   "cell_type": "code",
   "execution_count": 19,
   "metadata": {},
   "outputs": [
    {
     "data": {
      "text/markdown": [
       "$U_0 = 0.52310 m/s$"
      ],
      "text/plain": [
       "<IPython.core.display.Markdown object>"
      ]
     },
     "execution_count": 19,
     "metadata": {},
     "output_type": "execute_result"
    }
   ],
   "source": [
    "S = 0.2\n",
    "U0 = (f1*D)/S\n",
    "md(\"\"\"$U_0 = %.5f m/s$\"\"\" %U0)"
   ]
  },
  {
   "cell_type": "markdown",
   "metadata": {},
   "source": [
    "### i) O valor da força transversal máxima L provocada pela corrente, considerando que $sen(2 \\pi f_k t) = 1 $.\n",
    "# $$ L = c_K \\frac{1}{2} \\rho U_0^2 D \\; sen(2 \\pi f_k t) = 1 $$"
   ]
  },
  {
   "cell_type": "code",
   "execution_count": 20,
   "metadata": {},
   "outputs": [
    {
     "data": {
      "text/markdown": [
       "$L = 19.81 Kgf$"
      ],
      "text/plain": [
       "<IPython.core.display.Markdown object>"
      ]
     },
     "execution_count": 20,
     "metadata": {},
     "output_type": "execute_result"
    }
   ],
   "source": [
    "Ck = 0.2\n",
    "Vcorr = 6 #nós\n",
    "Vcorr_ = Vcorr* 0.5144\n",
    "L = Ck * 0.5 * rhoH2O * U0**2 * D\n",
    "md(\"\"\"$L = %.2f Kgf$\"\"\" %L)"
   ]
  },
  {
   "cell_type": "code",
   "execution_count": 21,
   "metadata": {},
   "outputs": [
    {
     "name": "stdout",
     "output_type": "stream",
     "text": [
      "Sem risco de haver Ressonância\n"
     ]
    }
   ],
   "source": [
    "if U0 > Vcorr_:\n",
    "    print(\"Risco de haver Ressonância\")\n",
    "else:\n",
    "    print(\"Sem risco de haver Ressonância\")"
   ]
  }
 ],
 "metadata": {
  "kernelspec": {
   "display_name": "Python 3",
   "language": "python",
   "name": "python3"
  },
  "language_info": {
   "codemirror_mode": {
    "name": "ipython",
    "version": 3
   },
   "file_extension": ".py",
   "mimetype": "text/x-python",
   "name": "python",
   "nbconvert_exporter": "python",
   "pygments_lexer": "ipython3",
   "version": "3.6.10"
  },
  "varInspector": {
   "cols": {
    "lenName": 16,
    "lenType": 16,
    "lenVar": 40
   },
   "kernels_config": {
    "python": {
     "delete_cmd_postfix": "",
     "delete_cmd_prefix": "del ",
     "library": "var_list.py",
     "varRefreshCmd": "print(var_dic_list())"
    },
    "r": {
     "delete_cmd_postfix": ") ",
     "delete_cmd_prefix": "rm(",
     "library": "var_list.r",
     "varRefreshCmd": "cat(var_dic_list()) "
    }
   },
   "types_to_exclude": [
    "module",
    "function",
    "builtin_function_or_method",
    "instance",
    "_Feature"
   ],
   "window_display": false
  }
 },
 "nbformat": 4,
 "nbformat_minor": 4
}
