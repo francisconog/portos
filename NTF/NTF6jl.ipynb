{
 "cells": [
  {
   "cell_type": "markdown",
   "metadata": {},
   "source": [
    "# NTF 6 - Portos\n",
    "## Esforços Hidrodinâmicos e Momentos sobre pilares e tubulões Portuários\n",
    "\n",
    "Aluno: Francisco José Matos Nogueira Filho\n",
    "\n",
    "Matricula: 384962"
   ]
  },
  {
   "cell_type": "code",
   "execution_count": 16,
   "metadata": {},
   "outputs": [
    {
     "name": "stderr",
     "output_type": "stream",
     "text": [
      "┌ Info: Precompiling LaTeXStrings [b964fa9f-0449-5b57-a5c2-d3ea65f4040f]\n",
      "└ @ Base loading.jl:1278\n"
     ]
    }
   ],
   "source": [
    "using PyCall\n",
    "using LaTeXStrings\n",
    "@pyimport IPython.display as d"
   ]
  },
  {
   "cell_type": "markdown",
   "metadata": {},
   "source": [
    "## Dados da onda em Alto Mar"
   ]
  },
  {
   "cell_type": "code",
   "execution_count": 22,
   "metadata": {},
   "outputs": [
    {
     "data": {
      "text/plain": [
       "9.81"
      ]
     },
     "execution_count": 22,
     "metadata": {},
     "output_type": "execute_result"
    }
   ],
   "source": [
    "## Dados da onda em Alto Mar\n",
    "\n",
    "H0 = 4.2 #m\n",
    "T = 9 #s\n",
    "g = 9.81 #m/s^2"
   ]
  },
  {
   "cell_type": "code",
   "execution_count": 29,
   "metadata": {},
   "outputs": [
    {
     "data": {
      "text/plain": [
       "300000.0"
      ]
     },
     "execution_count": 29,
     "metadata": {},
     "output_type": "execute_result"
    }
   ],
   "source": [
    "ρh2o = 1034 #kgf/m^3\n",
    "ρc = 2500 #kgf/m^3\n",
    "Es = 2.1e6 #kgf/cmˆ2\n",
    "Hc = 3e5 #kgf/cmˆ2"
   ]
  },
  {
   "cell_type": "code",
   "execution_count": 26,
   "metadata": {},
   "outputs": [
    {
     "data": {
      "text/markdown": [
       "$H_0 = 4 m$"
      ],
      "text/plain": [
       "PyObject <IPython.core.display.Markdown object>"
      ]
     },
     "execution_count": 26,
     "metadata": {},
     "output_type": "execute_result"
    }
   ],
   "source": [
    "d.Markdown(latexstring(\"H_0 = $H0 m\"))"
   ]
  },
  {
   "cell_type": "markdown",
   "metadata": {},
   "source": [
    "### a) A altura da onda a atingir a zona de cravação das estacas"
   ]
  },
  {
   "cell_type": "code",
   "execution_count": 34,
   "metadata": {},
   "outputs": [
    {
     "ename": "LoadError",
     "evalue": "syntax: invalid interpolation syntax: \"$.\"",
     "output_type": "error",
     "traceback": [
      "syntax: invalid interpolation syntax: \"$.\"",
      "",
      "Stacktrace:",
      " [1] top-level scope at In[34]:3",
      " [2] include_string(::Function, ::Module, ::String, ::String) at ./loading.jl:1091"
     ]
    }
   ],
   "source": [
    "D = 0.7 #m\n",
    "J = (pi*D^4)/64\n",
    "d.Markdown(latexstring(\"J = $.2fJ m^4\"))"
   ]
  },
  {
   "cell_type": "code",
   "execution_count": null,
   "metadata": {},
   "outputs": [],
   "source": []
  },
  {
   "cell_type": "code",
   "execution_count": null,
   "metadata": {},
   "outputs": [],
   "source": []
  },
  {
   "cell_type": "code",
   "execution_count": null,
   "metadata": {},
   "outputs": [],
   "source": []
  },
  {
   "cell_type": "code",
   "execution_count": null,
   "metadata": {},
   "outputs": [],
   "source": []
  },
  {
   "cell_type": "markdown",
   "metadata": {},
   "source": [
    "### b) A máxima força de inércia provocada pela onda ao passar pela estaca"
   ]
  },
  {
   "cell_type": "markdown",
   "metadata": {},
   "source": [
    "c) A máxima força de arraste provocada pela onda ao passar pela estaca (0,1 ponto);\n",
    "d) O máximo momento de inércia no pé da estaca provocado pela onda (0,1 ponto);\n",
    "e) O máximo momento de arraste no pé da estaca provocado pela onda (0,1 ponto);\n",
    "f) A resultante combinada dos momentos de inércia e arraste no pé da estaca (0,1\n",
    "ponto);\n",
    "g) A frequência de vibração própria da estaca numa condição de simplesmente cravada\n",
    "(0,1 ponto);\n",
    "h) A velocidade crítica de corrente capaz de produzir ressonância com a estaca\n",
    "simplesmente cravada "
   ]
  },
  {
   "cell_type": "code",
   "execution_count": null,
   "metadata": {},
   "outputs": [],
   "source": []
  }
 ],
 "metadata": {
  "kernelspec": {
   "display_name": "Julia 1.5.1",
   "language": "julia",
   "name": "julia-1.5"
  },
  "language_info": {
   "file_extension": ".jl",
   "mimetype": "application/julia",
   "name": "julia",
   "version": "1.5.1"
  },
  "varInspector": {
   "cols": {
    "lenName": 16,
    "lenType": 16,
    "lenVar": 40
   },
   "kernels_config": {
    "python": {
     "delete_cmd_postfix": "",
     "delete_cmd_prefix": "del ",
     "library": "var_list.py",
     "varRefreshCmd": "print(var_dic_list())"
    },
    "r": {
     "delete_cmd_postfix": ") ",
     "delete_cmd_prefix": "rm(",
     "library": "var_list.r",
     "varRefreshCmd": "cat(var_dic_list()) "
    }
   },
   "types_to_exclude": [
    "module",
    "function",
    "builtin_function_or_method",
    "instance",
    "_Feature"
   ],
   "window_display": false
  }
 },
 "nbformat": 4,
 "nbformat_minor": 4
}
